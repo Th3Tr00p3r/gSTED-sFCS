{
 "cells": [
  {
   "cell_type": "markdown",
   "id": "14410d4f",
   "metadata": {},
   "source": [
    "- Import core and 3rd party modules\n",
    "- Move current working directory to project root (if needed) and import project modules\n",
    "- Set data paths and other constants"
   ]
  },
  {
   "cell_type": "code",
   "execution_count": null,
   "id": "a157fc00",
   "metadata": {},
   "outputs": [],
   "source": [
    "######################################\n",
    "# importing core and 3rd-party modules\n",
    "######################################\n",
    "\n",
    "import os\n",
    "import pickle\n",
    "import re\n",
    "import scipy\n",
    "from pathlib import Path\n",
    "from winsound import Beep\n",
    "from contextlib import suppress\n",
    "\n",
    "import matplotlib as mpl\n",
    "\n",
    "mpl.use(\"nbAgg\")\n",
    "import numpy as np\n",
    "from IPython.core.debugger import set_trace\n",
    "from matplotlib import pyplot as plt\n",
    "from scipy.fft import fft, ifft\n",
    "\n",
    "###############################################\n",
    "# Move to project root to easily import modules\n",
    "###############################################\n",
    "\n",
    "try: # avoid changes if already set\n",
    "    print(\"Working from: \", PROJECT_ROOT)\n",
    "except NameError:\n",
    "    try:  # running from Spyder\n",
    "        PROJECT_ROOT = Path(__file__).resolve()\n",
    "    except NameError:  # running as Jupyter Notebook\n",
    "        PROJECT_ROOT = Path(os.getcwd()).resolve().parent.parent\n",
    "    os.chdir(PROJECT_ROOT)\n",
    "    print(\"Working from: \", PROJECT_ROOT)\n",
    "\n",
    "from data_analysis.correlation_function import (CorrFunc, SFCSExperiment,\n",
    "                                                SolutionSFCSMeasurement)\n",
    "from data_analysis.software_correlator import (CorrelatorType,\n",
    "                                               SoftwareCorrelator)\n",
    "from utilities.display import Plotter, get_gradient_colormap\n",
    "from utilities.file_utilities import (default_system_info, load_mat,\n",
    "                                      load_object, save_object,\n",
    "                                      save_processed_solution_meas)\n",
    "from utilities.helper import Limits, fourier_transform_1d\n",
    "\n",
    "#################################################\n",
    "# Setting up data path and other global constants\n",
    "#################################################\n",
    "\n",
    "DATA_ROOT = Path(\"D:\\OneDrive - post.bgu.ac.il\\gSTED_sFCS_Data\")  # Laptop/Lab PC (same path)\n",
    "# DATA_ROOT = Path(\"D:\\???\")  # Oleg's\n",
    "DATA_TYPE = \"solution\"\n",
    "\n",
    "FORCE_PROCESSING = False\n",
    "FORCE_PROCESSING = True"
   ]
  },
  {
   "cell_type": "markdown",
   "id": "4acbda73",
   "metadata": {},
   "source": [
    "## Comparing afterpulsing subtration: whitenoise autocorrelation (Halogen lamp calibration) vs. cross-correlating gates"
   ]
  },
  {
   "cell_type": "markdown",
   "id": "f0faec5a",
   "metadata": {},
   "source": [
    "Here I attempt to compare the afterpulsing gotten from auto-correlating white noise, to this gotten from cross-correlating valid photons from \"white-noise\" photons in fluorescent sample measurements.\n",
    "\n",
    "First, let's quickly get the default system afterpulsing currently used (matching the currently used detector settings).\n",
    "For this we can load some measurement to get some lag:"
   ]
  },
  {
   "cell_type": "code",
   "execution_count": null,
   "id": "813fb102",
   "metadata": {},
   "outputs": [],
   "source": [
    "# DATA_DATE = \"29_03_2022\"; confocal_template = \"bp300_20uW_angular_exc_172325_*.pkl\"; label = \"Free-Running 300 bp\"\n",
    "# DATA_DATE = \"29_03_2022\"; confocal_template = \"bp300_20uW_200mW_angular_sted_174126_*.pkl\"; label = \"Free-Running 300 bp STED\"\n",
    "# DATA_DATE = \"30_01_2022\"; confocal_template = \"yoyo300bp500nW_angular_sted_125650_*.pkl\"; label = \"Old Detector Free-Running 300 bp STED\"\n",
    "\n",
    "# DATA_DATE = \"10_05_2018\"; confocal_template = \"bp300_angular_exc_*.mat\"; label = \"MATLAB Free-Running 300 bp\"\n",
    "DATA_DATE = \"10_05_2018\"\n",
    "confocal_template = \"bp300_angular_sted_*.mat\"\n",
    "label = \"MATLAB Free-Running 300 bp STED\"\n",
    "# DATA_DATE = \"20_08_2018\"; confocal_template = \"EdU300bp_angular_sted_*.mat\"; label = \"MATLAB Free-Running EdU 300 bp STED\"\n",
    "\n",
    "# DATA_DATE = \"06_04_2022\"; confocal_template = \"atto_FR_angular_exc_141224_*.pkl\"; label = \"Free-Running ATTO\"\n",
    "# DATA_DATE = \"13_03_2022\"; confocal_template = \"atto_12uW_FR_static_exc_182414_*.pkl\"; label = \"Free-Running static ATTO\"\n",
    "\n",
    "DATA_PATH = DATA_ROOT / DATA_DATE / DATA_TYPE\n",
    "\n",
    "# load experiment\n",
    "exp = SFCSExperiment(name=label)\n",
    "exp.load_experiment(\n",
    "    confocal_template=DATA_PATH / confocal_template,\n",
    "    should_plot=True,\n",
    "    should_use_preprocessed=not FORCE_PROCESSING,\n",
    "    should_re_correlate=True,\n",
    ")\n",
    "\n",
    "# save processed data (to avoid re-processing)\n",
    "exp.save_processed_measurements()\n",
    "\n",
    "# Show countrate\n",
    "print(f\"Count-Rate: {exp.confocal.avg_cnt_rate_khz} kHz\")"
   ]
  },
  {
   "cell_type": "markdown",
   "id": "471228e6",
   "metadata": {},
   "source": [
    "Now, using the same measurement, we'll try cross-correlating the 'fluorescence' and 'calibration' photons.\n",
    "\n",
    "First, we need to calibrate the TDC, in order to know which photons belong in each group:"
   ]
  },
  {
   "cell_type": "code",
   "execution_count": null,
   "id": "0bfe5415",
   "metadata": {},
   "outputs": [],
   "source": [
    "exp.calibrate_tdc()"
   ]
  },
  {
   "cell_type": "markdown",
   "id": "0f65752d",
   "metadata": {},
   "source": [
    "Next, let's cross-correlate the fluorescence and white-noise photons. This can be done by choosing gating once from 0 to 40 ns, then from 40 to 100 (or np.inf) ns:"
   ]
  },
  {
   "cell_type": "code",
   "execution_count": null,
   "id": "edb3dd99",
   "metadata": {},
   "outputs": [],
   "source": [
    "meas = exp.confocal\n",
    "meas.xcf = {}  # \"halogen_afterpulsing\": meas.cf[\"confocal\"].afterpulse}\n",
    "\n",
    "gate1_ns = Limits(2, 10)\n",
    "gate2_ns = Limits(35, 85)\n",
    "\n",
    "corr_names = (\"AB\",)\n",
    "CF_list = meas.cross_correlate_data(\n",
    "    cf_name=\"fl_vs_wn\",\n",
    "    corr_names=corr_names,\n",
    "    gate1_ns=gate1_ns,\n",
    "    gate2_ns=gate2_ns,\n",
    "    should_subtract_bg_corr=True,\n",
    "    should_subtract_afterpulse=False,\n",
    ")\n",
    "\n",
    "CF_dict = {xx: CF_xx for xx, CF_xx in zip(corr_names, CF_list)}\n",
    "\n",
    "for CF in CF_dict.values():\n",
    "    CF.average_correlation()\n",
    "\n",
    "# plotting all corrfuncs (from the experiment):\n",
    "exp.plot_correlation_functions(y_field=\"avg_cf_cr\", y_scale=\"log\", ylim=Limits(5e1, 5e4))\n",
    "exp.plot_correlation_functions(y_field=\"avg_cf_cr\", ylim=Limits(5e1, 5e4))"
   ]
  },
  {
   "cell_type": "markdown",
   "id": "9d2b6dc9",
   "metadata": {},
   "source": [
    "Now let's try to use the cross-correlation as the afterpulsing:"
   ]
  },
  {
   "cell_type": "code",
   "execution_count": null,
   "id": "507427f2",
   "metadata": {},
   "outputs": [],
   "source": [
    "ap_factor = 1.05  # 1\n",
    "\n",
    "# calculate afterpulsing from cross-correlation\n",
    "countrate_a = np.mean([countrate_pair.a for countrate_pair in CF_dict[\"AB\"].countrate_list])\n",
    "countrate_b = np.mean([countrate_pair.b for countrate_pair in CF_dict[\"AB\"].countrate_list])\n",
    "inherent_afterpulsing = (\n",
    "    countrate_b\n",
    "    * (exp.confocal.gate_width_ns / gate2_ns.interval())\n",
    "    * CF_dict[\"AB\"].avg_cf_cr\n",
    "    / countrate_a\n",
    ")\n",
    "\n",
    "# load experiment\n",
    "exp_xcorr_as_ap = SFCSExperiment(\n",
    "    name=\"Free-Running 300 bp, X-Correlation of Fluorescent vs. White-Noise as Afterpulsing\"\n",
    ")\n",
    "exp_xcorr_as_ap.load_experiment(\n",
    "    confocal_template=DATA_PATH / confocal_template,\n",
    "    should_plot=False,\n",
    "    should_plot_meas=False,\n",
    "    should_use_preprocessed=True,\n",
    "    should_re_correlate=True,  # Need to re-process with ext. afterpulsing\n",
    "    external_afterpulsing=inherent_afterpulsing * ap_factor,\n",
    ")"
   ]
  },
  {
   "cell_type": "markdown",
   "id": "94fd5007",
   "metadata": {},
   "source": [
    "Let's look at them together:"
   ]
  },
  {
   "cell_type": "code",
   "execution_count": null,
   "id": "c16dcb9b",
   "metadata": {},
   "outputs": [],
   "source": [
    "with Plotter(super_title=label, ylim=(-300, exp.confocal.cf[\"confocal\"].g0 * 1.5)) as ax:\n",
    "    exp.confocal.cf[\"confocal\"].plot_correlation_function(\n",
    "        parent_ax=ax, x_field=\"vt_um\", plot_kwargs=dict(label=\"Regular\")\n",
    "    )\n",
    "    exp_xcorr_as_ap.confocal.cf[\"confocal\"].plot_correlation_function(\n",
    "        parent_ax=ax, x_field=\"vt_um\", plot_kwargs=dict(label=\"BA XCorr as Afterpulsing\")\n",
    "    )\n",
    "    ax.legend()\n",
    "\n",
    "with Plotter(\n",
    "    super_title=\"Afterpulsing\", x_scale=\"log\", y_scale=\"linear\", xlim=(1e-4, 1e0), ylim=(1e-2, 1e4)\n",
    ") as ax:\n",
    "    lag = exp.confocal.cf[\"confocal\"].lag\n",
    "    ax.plot(lag, exp.confocal.cf[\"confocal\"].afterpulse, label=\"Halogen AutoCorr\")\n",
    "    ax.plot(CF_dict[\"AB\"].lag, inherent_afterpulsing, label=\"X Corr\")\n",
    "    ax.legend()"
   ]
  },
  {
   "cell_type": "markdown",
   "id": "2a30b36b",
   "metadata": {},
   "source": [
    "Play sound when done:"
   ]
  },
  {
   "cell_type": "code",
   "execution_count": null,
   "id": "e9fc9631",
   "metadata": {},
   "outputs": [],
   "source": [
    "Beep(4000, 300)"
   ]
  }
 ],
 "metadata": {
  "jupytext": {
   "formats": "ipynb,py:percent"
  },
  "kernelspec": {
   "display_name": "Python 3 (ipykernel)",
   "language": "python",
   "name": "python3"
  },
  "language_info": {
   "codemirror_mode": {
    "name": "ipython",
    "version": 3
   },
   "file_extension": ".py",
   "mimetype": "text/x-python",
   "name": "python",
   "nbconvert_exporter": "python",
   "pygments_lexer": "ipython3",
   "version": "3.9.5"
  }
 },
 "nbformat": 4,
 "nbformat_minor": 5
}
