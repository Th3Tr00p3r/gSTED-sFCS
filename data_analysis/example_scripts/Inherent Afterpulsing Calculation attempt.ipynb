{
 "cells": [
  {
   "cell_type": "markdown",
   "id": "14410d4f",
   "metadata": {},
   "source": [
    "- Import core and 3rd party modules\n",
    "- Move current working directory to project root (if needed) and import project modules\n",
    "- Set data paths and other constants"
   ]
  },
  {
   "cell_type": "code",
   "execution_count": null,
   "id": "a157fc00",
   "metadata": {},
   "outputs": [],
   "source": [
    "######################################\n",
    "# importing core and 3rd-party modules\n",
    "######################################\n",
    "\n",
    "import os\n",
    "import pickle\n",
    "import re\n",
    "import scipy\n",
    "from pathlib import Path\n",
    "from winsound import Beep\n",
    "from contextlib import suppress\n",
    "\n",
    "import matplotlib as mpl\n",
    "\n",
    "mpl.use(\"nbAgg\")\n",
    "import numpy as np\n",
    "from IPython.core.debugger import set_trace\n",
    "from matplotlib import pyplot as plt\n",
    "from scipy.fft import fft, ifft\n",
    "\n",
    "###############################################\n",
    "# Move to project root to easily import modules\n",
    "###############################################\n",
    "\n",
    "try: # avoid changes if already set\n",
    "    print(\"Working from: \", PROJECT_ROOT)\n",
    "except NameError:\n",
    "    try:  # running from Spyder\n",
    "        PROJECT_ROOT = Path(__file__).resolve()\n",
    "    except NameError:  # running as Jupyter Notebook\n",
    "        PROJECT_ROOT = Path(os.getcwd()).resolve().parent.parent\n",
    "    os.chdir(PROJECT_ROOT)\n",
    "    print(\"Working from: \", PROJECT_ROOT)\n",
    "\n",
    "from data_analysis.correlation_function import (CorrFunc, SFCSExperiment,\n",
    "                                                SolutionSFCSMeasurement)\n",
    "from data_analysis.software_correlator import (CorrelatorType,\n",
    "                                               SoftwareCorrelator)\n",
    "from utilities.display import Plotter, get_gradient_colormap\n",
    "from utilities.file_utilities import (default_system_info, load_mat,\n",
    "                                      load_object, save_object,\n",
    "                                      save_processed_solution_meas)\n",
    "from utilities.helper import Limits, fourier_transform_1d\n",
    "\n",
    "#################################################\n",
    "# Setting up data path and other global constants\n",
    "#################################################\n",
    "\n",
    "DATA_ROOT = Path(\"D:\\OneDrive - post.bgu.ac.il\\gSTED_sFCS_Data\")  # Laptop/Lab PC (same path)\n",
    "# DATA_ROOT = Path(\"D:\\???\")  # Oleg's\n",
    "DATA_TYPE = \"solution\"\n",
    "\n",
    "FORCE_PROCESSING = False\n",
    "FORCE_PROCESSING = True"
   ]
  },
  {
   "cell_type": "markdown",
   "id": "4acbda73",
   "metadata": {},
   "source": [
    "## Comparing afterpulsing subtration: whitenoise autocorrelation (Halogen lamp calibration) vs. cross-correlating gates"
   ]
  },
  {
   "cell_type": "markdown",
   "id": "f0faec5a",
   "metadata": {},
   "source": [
    "Here I attempt to compare the afterpulsing gotten from auto-correlating white noise, to this gotten from cross-correlating valid photons from \"white-noise\" photons in fluorescent sample measurements.\n",
    "\n",
    "First, let's quickly get the default system afterpulsing currently used (matching the currently used detector settings).\n",
    "For this we can load some measurement to get some lag:"
   ]
  },
  {
   "cell_type": "code",
   "execution_count": null,
   "id": "813fb102",
   "metadata": {},
   "outputs": [],
   "source": [
    "# DATA_DATE = \"29_03_2022\"; confocal_template = \"bp300_20uW_angular_exc_172325_*.pkl\"; label = \"Free-Running 300 bp\"\n",
    "# DATA_DATE = \"29_03_2022\"; confocal_template = \"bp300_20uW_200mW_angular_sted_174126_*.pkl\"; label = \"Free-Running 300 bp STED\"\n",
    "# DATA_DATE = \"30_01_2022\"; confocal_template = \"yoyo300bp500nW_angular_sted_125650_*.pkl\"; label = \"Old Detector Free-Running 300 bp STED\"\n",
    "\n",
    "# DATA_DATE = \"10_05_2018\"; confocal_template = \"bp300_angular_exc_*.mat\"; label = \"MATLAB Free-Running 300 bp\"\n",
    "DATA_DATE = \"10_05_2018\"\n",
    "confocal_template = \"bp300_angular_sted_*.mat\"\n",
    "label = \"MATLAB Free-Running 300 bp STED\"\n",
    "# DATA_DATE = \"20_08_2018\"; confocal_template = \"EdU300bp_angular_sted_*.mat\"; label = \"MATLAB Free-Running EdU 300 bp STED\"\n",
    "\n",
    "# DATA_DATE = \"06_04_2022\"; confocal_template = \"atto_FR_angular_exc_141224_*.pkl\"; label = \"Free-Running ATTO\"\n",
    "# DATA_DATE = \"13_03_2022\"; confocal_template = \"atto_12uW_FR_static_exc_182414_*.pkl\"; label = \"Free-Running static ATTO\"\n",
    "\n",
    "DATA_PATH = DATA_ROOT / DATA_DATE / DATA_TYPE\n",
    "\n",
    "# load experiment\n",
    "exp = SFCSExperiment(name=label)\n",
    "exp.load_experiment(\n",
    "    confocal_template=DATA_PATH / confocal_template,\n",
    "    should_plot=True,\n",
    "    should_use_preprocessed=not FORCE_PROCESSING,\n",
    "    should_re_correlate=True,\n",
    ")\n",
    "\n",
    "# save processed data (to avoid re-processing)\n",
    "exp.save_processed_measurements()\n",
    "\n",
    "# Show countrate\n",
    "print(f\"Count-Rate: {exp.confocal.avg_cnt_rate_khz} kHz\")"
   ]
  },
  {
   "cell_type": "markdown",
   "id": "471228e6",
   "metadata": {},
   "source": [
    "Now, using the same measurement, we'll try cross-correlating the 'fluorescence' and 'calibration' photons.\n",
    "\n",
    "First, we need to calibrate the TDC, in order to know which photons belong in each group:"
   ]
  },
  {
   "cell_type": "code",
   "execution_count": null,
   "id": "0bfe5415",
   "metadata": {},
   "outputs": [],
   "source": [
    "exp.calibrate_tdc()"
   ]
  },
  {
   "cell_type": "markdown",
   "id": "0f65752d",
   "metadata": {},
   "source": [
    "Next, let's cross-correlate the fluorescence and white-noise photons. This can be done by choosing gating once from 0 to 40 ns, then from 40 to 100 (or np.inf) ns:"
   ]
  },
  {
   "cell_type": "code",
   "execution_count": null,
   "id": "edb3dd99",
   "metadata": {},
   "outputs": [],
   "source": [
    "meas = exp.confocal\n",
    "meas.xcf = {}  # \"halogen_afterpulsing\": meas.cf[\"confocal\"].afterpulse}\n",
    "\n",
    "gate1_ns = Limits(2, 10)\n",
    "gate2_ns = Limits(35, 85)\n",
    "\n",
    "corr_names = (\"AB\",)\n",
    "CF_list = meas.cross_correlate_data(\n",
    "    cf_name=\"fl_vs_wn\",\n",
    "    corr_names=corr_names,\n",
    "    gate1_ns=gate1_ns,\n",
    "    gate2_ns=gate2_ns,\n",
    "    should_subtract_bg_corr=True,\n",
    "    should_subtract_afterpulse=False,\n",
    ")\n",
    "\n",
    "CF_dict = {xx: CF_xx for xx, CF_xx in zip(corr_names, CF_list)}\n",
    "\n",
    "for CF in CF_dict.values():\n",
    "    CF.average_correlation()\n",
    "\n",
    "# plotting all corrfuncs (from the experiment):\n",
    "exp.plot_correlation_functions(y_field=\"avg_cf_cr\", y_scale=\"log\", ylim=Limits(5e1, 5e4))\n",
    "exp.plot_correlation_functions(y_field=\"avg_cf_cr\", ylim=Limits(5e1, 5e4))"
   ]
  },
  {
   "cell_type": "markdown",
   "id": "9d2b6dc9",
   "metadata": {},
   "source": [
    "Now let's try to use the cross-correlation as the afterpulsing:"
   ]
  },
  {
   "cell_type": "code",
   "execution_count": null,
   "id": "507427f2",
   "metadata": {},
   "outputs": [],
   "source": [
    "ap_factor = 1.05  # 1\n",
    "\n",
    "# calculate afterpulsing from cross-correlation\n",
    "countrate_a = np.mean([countrate_pair.a for countrate_pair in CF_dict[\"AB\"].countrate_list])\n",
    "countrate_b = np.mean([countrate_pair.b for countrate_pair in CF_dict[\"AB\"].countrate_list])\n",
    "inherent_afterpulsing = (\n",
    "    countrate_b\n",
    "    * (exp.confocal.gate_width_ns / gate2_ns.interval())\n",
    "    * CF_dict[\"AB\"].avg_cf_cr\n",
    "    / countrate_a\n",
    ")\n",
    "\n",
    "# load experiment\n",
    "exp_xcorr_as_ap = SFCSExperiment(\n",
    "    name=\"Free-Running 300 bp, X-Correlation of Fluorescent vs. White-Noise as Afterpulsing\"\n",
    ")\n",
    "exp_xcorr_as_ap.load_experiment(\n",
    "    confocal_template=DATA_PATH / confocal_template,\n",
    "    should_plot=False,\n",
    "    should_plot_meas=False,\n",
    "    should_use_preprocessed=True,\n",
    "    should_re_correlate=True,  # Need to re-process with ext. afterpulsing\n",
    "    external_afterpulsing=inherent_afterpulsing * ap_factor,\n",
    ")"
   ]
  },
  {
   "cell_type": "markdown",
   "id": "94fd5007",
   "metadata": {},
   "source": [
    "Let's look at them together:"
   ]
  },
  {
   "cell_type": "code",
   "execution_count": null,
   "id": "c16dcb9b",
   "metadata": {},
   "outputs": [],
   "source": [
    "with Plotter(super_title=label, ylim=(-300, exp.confocal.cf[\"confocal\"].g0 * 1.5)) as ax:\n",
    "    exp.confocal.cf[\"confocal\"].plot_correlation_function(\n",
    "        parent_ax=ax, x_field=\"vt_um\", plot_kwargs=dict(label=\"Regular\")\n",
    "    )\n",
    "    exp_xcorr_as_ap.confocal.cf[\"confocal\"].plot_correlation_function(\n",
    "        parent_ax=ax, x_field=\"vt_um\", plot_kwargs=dict(label=\"BA XCorr as Afterpulsing\")\n",
    "    )\n",
    "    ax.legend()\n",
    "\n",
    "with Plotter(\n",
    "    super_title=\"Afterpulsing\", x_scale=\"log\", y_scale=\"linear\", xlim=(1e-4, 1e0), ylim=(1e-2, 1e4)\n",
    ") as ax:\n",
    "    lag = exp.confocal.cf[\"confocal\"].lag\n",
    "    ax.plot(lag, exp.confocal.cf[\"confocal\"].afterpulse, label=\"Halogen AutoCorr\")\n",
    "    ax.plot(CF_dict[\"AB\"].lag, inherent_afterpulsing, label=\"X Corr\")\n",
    "    ax.legend()"
   ]
  },
  {
   "cell_type": "markdown",
   "id": "4051b44a",
   "metadata": {},
   "source": [
    "## Afterpulsing removal through de-convolution"
   ]
  },
  {
   "cell_type": "markdown",
   "id": "15eae375",
   "metadata": {},
   "source": [
    "### Derivation\n",
    "Let us define $F(t)$ as the signal at time $t$, and $p(t)$ as the probability density per unit time of afterpulsing at time $t$. We have, therefore:\n",
    "$$\n",
    "\\delta I(t) = \\int \\delta F(t-t')p(t')dt'\n",
    "$$\n",
    "\n",
    "Presenting $F$ and $p$ as reverse Fourier transforms\n",
    "$$\n",
    "\\delta F(t) = \\frac{1}{\\sqrt{2\\pi}}\\int d\\omega\\delta F(\\omega)e^{i\\omega t}\n",
    "$$\n",
    "$$\n",
    "\\delta p(t) = \\frac{1}{\\sqrt{2\\pi}}\\int d\\omega'\\delta p(\\omega')e^{i\\omega't}\n",
    "$$\n",
    "\n",
    "and plugging back in:\n",
    "$$\n",
    "\\delta I(t) = \\frac{1}{2\\pi}\\int d\\omega d\\omega'\\delta F(\\omega)p(\\omega') \\int_{-\\infty}^\\infty e^{i[\\omega(t-t')+\\omega't']}dt'\n",
    "$$\n",
    "\n",
    "we notice that the last integral yields a delta function $e^{i\\omega t}\\delta(\\omega'-\\omega)$:\n",
    "$$\n",
    "= \\int\\delta\\omega F(\\omega)p(\\omega)e^{i\\omega t}\n",
    "$$\n",
    "\n",
    "Now, for the ACF. We conjugate $\\delta I(t')$ for convenience (it is real):\n",
    "$$\n",
    "G(t)=\\langle\\delta I(0)\\delta I(t)\\rangle = \\frac{1}{2T}\\int dt' \\langle\\delta I^*(t')\\delta I(t'+t)\\rangle\n",
    "$$\n",
    "$$\n",
    "= \\frac{1}{2T}\\frac{1}{(2\\pi)^2}\\int d\\omega d\\omega'\\delta F^*(\\omega)p^*(\\omega)\\delta F(\\omega')p(\\omega')\\int dt' e^{-i(\\omega'-\\omega) t'}e^{i\\omega' t}\n",
    "$$\n",
    "\n",
    "and after noticing yet another delta function:\n",
    "$$\n",
    "=\\frac{1}{2T}\\frac{1}{(2\\pi)^2}\\int d\\omega |F(\\omega)|^2|p(\\omega)|^2e^{i\\omega t}\n",
    "$$\n",
    "\n",
    "Noticing that this is a reverse Fourier transform, we can perform a Fourier transform to extract the product of $F$ and $p$:\n",
    "$$\n",
    "FT\\left[G(t)\\right]=G(\\omega)=\\frac{1}{2T}\\frac{1}{(2\\pi)^{3/2}}|F(\\omega)|^2|p(\\omega)|^2\n",
    "$$\n",
    "\n",
    "So, the Fourier transform of the afterpulsed ACF is proportional to the Fourier transform of the afterpulsing-clean ACF times the Fourier transform of the afterpulsing ACF. In other words, the afterpulsing seperates from the signal in Fourier  space.\n",
    "\n",
    "We already saw (see above, for old detector data) that cross-correlating signal at different gates (signal vs. white noise tail) yields the afterpulsing. Until now we subtracted it from the ACF on grounds that the afterpulsing was strong at lag-times where the clean ACF was unintersting. We can attempt now to get rid of afterpulsing in a more general way:\n",
    "$$\n",
    "\\frac{G_{ap\\ signal}(\\omega)}{G_{ap}(\\omega)} = \\frac{|F(\\omega)|^2|p(\\omega)|^2}{|p(\\omega)|^2}=|F(\\omega)|^2 = G_{signal}(\\omega)\n",
    "$$\n",
    "\n",
    "Where $G_{ap\\ signal}(\\omega)$ is Fourier-transformed afterpulsed signal, $G_{ap}(\\omega)$ is the Fourier-transformed cross-correlated signal afterpulsing and $G_{signal}(\\omega)$ is the afterpulse-free Fourier-transformed ACF.\n",
    "\n",
    "We may need to reverse-transform $G_{signal}(\\omega)$, since we need the regular-time ACF to perform the Hankel transform on (spatial 2D Fourier transform) for deconvoluting the PSF from the structure factor (in exactly the same process!).\n",
    "\n",
    "NOTE: is there a way to do it without reverse-transforming?"
   ]
  },
  {
   "cell_type": "markdown",
   "id": "99a72ef3",
   "metadata": {},
   "source": [
    "### Testing"
   ]
  },
  {
   "cell_type": "markdown",
   "id": "4f7017af",
   "metadata": {},
   "source": [
    "Here we would like to test the above method on old detector measurements (since for them we can compare this method to the well-tested subtraction method).\n",
    "\n",
    "We begin by loading the measurement and calibrating the TDC:"
   ]
  },
  {
   "cell_type": "code",
   "execution_count": null,
   "id": "179f8ad9",
   "metadata": {},
   "outputs": [],
   "source": [
    "DATA_DATE = \"10_05_2018\"\n",
    "confocal_template = \"bp300_angular_sted_*.mat\"\n",
    "label = \"MATLAB Free-Running 300 bp STED\"\n",
    "\n",
    "DATA_PATH = DATA_ROOT / DATA_DATE / DATA_TYPE\n",
    "\n",
    "# load experiment\n",
    "exp = SFCSExperiment(name=label)\n",
    "exp.load_experiment(\n",
    "    confocal_template=DATA_PATH / confocal_template,\n",
    "    should_plot=True,\n",
    "    should_use_preprocessed=True, # TODO: load anew if not found\n",
    "    should_re_correlate=False, # True\n",
    "    should_subtract_afterpulse=False,\n",
    ")\n",
    "\n",
    "# save processed data (to avoid re-processing)\n",
    "exp.save_processed_measurements()\n",
    "\n",
    "# Show countrate\n",
    "print(f\"Count-Rate: {exp.confocal.avg_cnt_rate_khz} kHz\")\n",
    "\n",
    "# calibrate TDC\n",
    "exp.calibrate_tdc(should_plot=False)"
   ]
  },
  {
   "cell_type": "markdown",
   "id": "c2725fd5",
   "metadata": {},
   "source": [
    "Now, let's get the afterpulsing from cross-corralting gates:"
   ]
  },
  {
   "cell_type": "code",
   "execution_count": null,
   "id": "0090951b",
   "metadata": {},
   "outputs": [],
   "source": [
    "meas = exp.confocal\n",
    "meas.xcf = {}  # \"halogen_afterpulsing\": meas.cf[\"confocal\"].afterpulse}\n",
    "\n",
    "gate1_ns = Limits(2, 10)\n",
    "gate2_ns = Limits(35, 85)\n",
    "\n",
    "corr_names = (\"AB\",)\n",
    "XCF = meas.cross_correlate_data(\n",
    "    cf_name=\"fl_vs_wn\",\n",
    "    corr_names=corr_names,\n",
    "    gate1_ns=gate1_ns,\n",
    "    gate2_ns=gate2_ns,\n",
    "    should_subtract_bg_corr=True,\n",
    "    should_subtract_afterpulse=False,\n",
    ")[0]\n",
    "\n",
    "XCF.average_correlation()"
   ]
  },
  {
   "cell_type": "markdown",
   "id": "afad7340",
   "metadata": {},
   "source": [
    "Now, we need to perform Fourier transforms. To prepare the functions for the transform we would do well to trim the noisy tail end and to symmetrize them.\n",
    "\n",
    "Let's define them and take a look first:"
   ]
  },
  {
   "cell_type": "code",
   "execution_count": null,
   "id": "291a02c0",
   "metadata": {},
   "outputs": [],
   "source": [
    "# defining the ACF of the afterpulsing (from xcorr) and the afterpulsed signal\n",
    "G_ap_t = np.copy(XCF.avg_cf_cr)\n",
    "G_ap_signal_t = np.copy(exp.confocal.cf[\"confocal\"].avg_cf_cr)\n",
    "lag = np.copy(XCF.lag)\n",
    "\n",
    "# plotting\n",
    "with Plotter(super_title=\"Logarithmic Scale\",\n",
    "    xlim=(1e-3, 1e1), ylim=(-500, exp.confocal.cf[\"confocal\"].g0 * 1.3), x_scale=\"log\"\n",
    ") as ax:\n",
    "\n",
    "    ax.plot(lag, G_ap_signal_t, label=\"Afterpulsed Signal\")\n",
    "    ax.plot(lag, G_ap_t, label=\"X-Corr Afterpulsing\")\n",
    "    ax.legend()\n",
    "    \n",
    "with Plotter(super_title=\"Linear Scale\",\n",
    "    xlim=(-1e-2, 1e-1), ylim=(-1e4, 1e5), x_scale=\"linear\"\n",
    ") as ax:\n",
    "\n",
    "    ax.plot(lag, G_ap_signal_t, label=\"Afterpulsed Signal\")\n",
    "    ax.plot(lag, G_ap_t, label=\"X-Corr Afterpulsing\")\n",
    "    ax.legend()"
   ]
  },
  {
   "cell_type": "markdown",
   "id": "d6506e14",
   "metadata": {},
   "source": [
    "Checking out the probability density at bin 0:"
   ]
  },
  {
   "cell_type": "code",
   "execution_count": null,
   "id": "660bdfc3",
   "metadata": {},
   "outputs": [],
   "source": [
    "lag[G_ap_t == max(G_ap_t)]"
   ]
  },
  {
   "cell_type": "code",
   "execution_count": null,
   "id": "2b50d64d",
   "metadata": {},
   "outputs": [],
   "source": [
    "n = 0\n",
    "G_ap_signal_t[n]\n",
    "G_ap_signal_t[n] * np.diff(lag)[n] * 1e-3"
   ]
  },
  {
   "cell_type": "code",
   "execution_count": null,
   "id": "3e5fbff4",
   "metadata": {},
   "outputs": [],
   "source": [
    "G_ap_t[0] * np.diff(lag)[n] * 1e-3"
   ]
  },
  {
   "cell_type": "markdown",
   "id": "d5916f7e",
   "metadata": {},
   "source": [
    "Cutting of the tail at lag of 1 ms: (later should gaussian interpolate)"
   ]
  },
  {
   "cell_type": "code",
   "execution_count": null,
   "id": "fdcb1178",
   "metadata": {},
   "outputs": [],
   "source": [
    "G_ap_signal_t[lag > 1] = 0\n",
    "G_ap_t[lag > 1] = 0"
   ]
  },
  {
   "cell_type": "markdown",
   "id": "58af9149",
   "metadata": {},
   "source": [
    "Testing our Fourier transform:"
   ]
  },
  {
   "cell_type": "code",
   "execution_count": null,
   "id": "eb03be16",
   "metadata": {},
   "outputs": [],
   "source": [
    "# %debug\n",
    "# define Gaussian on positive axis:\n",
    "a = 1\n",
    "sigma = 5\n",
    "t = np.arange(int(1e4))\n",
    "ft = a * np.exp(-(t/sigma)**2)\n",
    "\n",
    "# show it\n",
    "with Plotter(super_title=\"Gaussian\",\n",
    "    xlabel=\"$t$ (ms)\",\n",
    "    ylabel=\"f(t) (Normalized)\",\n",
    "    xlim=(-1e-2, sigma * 4),\n",
    ") as ax:\n",
    "    ax.plot(t, ft, 'o')\n",
    "\n",
    "# Fourier transform it:\n",
    "r, fr_interp, w, fw = fourier_transform_1d(\n",
    "    t,\n",
    "    ft,\n",
    "    bin_size=1, # in ms (meaning 100 ns)\n",
    "    should_symmetrize=False,\n",
    "#     should_symmetrize=True,\n",
    "#     should_make_q_symmetric=False,\n",
    "    should_make_q_symmetric=True,\n",
    "    lag_units_factor=1,\n",
    ")\n",
    "\n",
    "# show Fourier transform interpolation\n",
    "with Plotter(super_title=\"Interpolation\",\n",
    "    xlim=(-sigma * 4, sigma * 4),\n",
    ") as ax:\n",
    "    ax.plot(t, ft, 'o', label=\"before interpolation\")\n",
    "    ax.plot(r, fr_interp, 'x', label=\"after interpolation\")\n",
    "    ax.legend()\n",
    "    \n",
    "# show vanilla FFT\n",
    "fq = scipy.fft.fft(fr_interp)\n",
    "with Plotter(super_title=\"Quick and dirty FFT\",\n",
    ") as ax:\n",
    "    ax.plot(np.real(fq), label=\"real part\")\n",
    "    ax.plot(np.imag(fq), label=\"imaginary part\")\n",
    "    ax.legend()\n",
    "\n",
    "# show our Fourier transform\n",
    "with Plotter(super_title=\"Our Fourier Transform\",\n",
    "    xlabel=\"$\\omega$ (UNITS?)\",\n",
    "    ylabel=\"f($\\omega$) (UNITS?)\",\n",
    "#     xlim=(-1e-2, 1e-1), ylim=(-1e4, 1e5), x_scale=\"linear\"\n",
    ") as ax:\n",
    "    ax.plot(w, np.real(fw), label=\"real part\")\n",
    "    ax.plot(w, np.imag(fw), label=\"imaginary part\")\n",
    "    ax.legend()"
   ]
  },
  {
   "cell_type": "markdown",
   "id": "532e089b",
   "metadata": {},
   "source": [
    "Fourier transform:"
   ]
  },
  {
   "cell_type": "code",
   "execution_count": null,
   "id": "e2002ddb",
   "metadata": {},
   "outputs": [],
   "source": [
    "# %debug\n",
    "r, fr_interp, q, fq = fourier_transform_1d(\n",
    "    lag,\n",
    "    G_ap_signal_t,\n",
    "    bin_size=1e-4, # in ms (meaning 100 ns)\n",
    "    should_symmetrize=False,\n",
    "#     should_symmetrize=True,\n",
    "    should_make_q_symmetric=True,\n",
    "#     should_gaussian_interpolate=True,\n",
    ")\n",
    "\n",
    "with Plotter(super_title=\"Interpolation\",\n",
    "    xlim=(-1e-3, 1e-3), x_scale=\"linear\"\n",
    ") as ax:\n",
    "    ax.plot(lag, G_ap_signal_t * 1e-4 * 1e-3, 'o', label=\"before interpolation\")\n",
    "    ax.plot(r, fr_interp, 'x', label=\"after interpolation\")\n",
    "    ax.legend()\n",
    "\n",
    "with Plotter(super_title=\"Fourier Transform\",\n",
    "    xlabel=\"$\\omega$ (UNITS?)\",\n",
    "    ylabel=\"f($\\omega$) (UNITS?)\",\n",
    "#     xlim=(-1e-2, 1e-1), ylim=(-1e4, 1e5), x_scale=\"linear\"\n",
    ") as ax:\n",
    "\n",
    "    ax.plot(q, np.real(fq), label=\"real part\")\n",
    "    ax.plot(q, np.imag(fq), label=\"imaginary part\")\n",
    "    ax.legend()"
   ]
  },
  {
   "cell_type": "markdown",
   "id": "2a30b36b",
   "metadata": {},
   "source": [
    "Play sound when done:"
   ]
  },
  {
   "cell_type": "code",
   "execution_count": null,
   "id": "e9fc9631",
   "metadata": {},
   "outputs": [],
   "source": [
    "Beep(4000, 300)"
   ]
  }
 ],
 "metadata": {
  "jupytext": {
   "formats": "ipynb,py:percent"
  },
  "kernelspec": {
   "display_name": "Python 3 (ipykernel)",
   "language": "python",
   "name": "python3"
  },
  "language_info": {
   "codemirror_mode": {
    "name": "ipython",
    "version": 3
   },
   "file_extension": ".py",
   "mimetype": "text/x-python",
   "name": "python",
   "nbconvert_exporter": "python",
   "pygments_lexer": "ipython3",
   "version": "3.9.5"
  }
 },
 "nbformat": 4,
 "nbformat_minor": 5
}
