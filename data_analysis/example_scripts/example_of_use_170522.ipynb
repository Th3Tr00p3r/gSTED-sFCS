{
 "cells": [
  {
   "cell_type": "code",
   "execution_count": null,
   "id": "7c127403",
   "metadata": {},
   "outputs": [],
   "source": [
    "\"\"\"\n",
    "Created on Fri Apr 23 14:10:22 2021\n",
    "\n",
    "@author: oleg\n",
    "\"\"\"\n",
    "\n",
    "import os\n",
    "# import h5py\n",
    "import sys\n",
    "\n",
    "import matplotlib as mpl\n",
    "import numpy as np\n",
    "from matplotlib import pyplot as plt\n",
    "\n",
    "# from data_analysis.correlation_function import CorrFuncTDC\n",
    "from data_analysis.correlation_function import SFCSExperiment\n",
    "from data_analysis.software_correlator import (CorrelatorType,\n",
    "                                               SoftwareCorrelator)\n",
    "from utilities.helper import Limits\n",
    "\n",
    "sys.path.insert(0, os.path.dirname(__file__))\n",
    "os.chdir(os.path.dirname(__file__))\n",
    "print(os.path.dirname(__file__))\n",
    "# sys.path.append('//Users/oleg/Documents/Python programming/FCS Python/')\n",
    "\n",
    "\n",
    "mpl.rc(\"figure\", max_open_warning=0)"
   ]
  },
  {
   "cell_type": "code",
   "execution_count": null,
   "id": "aa032165",
   "metadata": {
    "lines_to_next_cell": 2
   },
   "outputs": [],
   "source": [
    "SC = SoftwareCorrelator()"
   ]
  },
  {
   "cell_type": "code",
   "execution_count": null,
   "id": "46d46be3",
   "metadata": {},
   "outputs": [],
   "source": [
    "\n",
    "# SC.correlate(np.array([ 5, 5, 5, 5, 5]), CorrelatorType.PH_DELAY_CORRELATOR, 1)"
   ]
  },
  {
   "cell_type": "code",
   "execution_count": null,
   "id": "64ba4d67",
   "metadata": {},
   "outputs": [],
   "source": [
    "\n",
    "# SC.correlate(np.array([ 5, 5, 5, 5, 5]), CorrelatorType.PH_DELAY_CORRELATOR, 1)"
   ]
  },
  {
   "cell_type": "code",
   "execution_count": null,
   "id": "875e387e",
   "metadata": {
    "title": "load all of the measurements and compare"
   },
   "outputs": [],
   "source": [
    "\n",
    "Sang = SFCSExperiment(\"T100518\", SC=SC)"
   ]
  },
  {
   "cell_type": "code",
   "execution_count": null,
   "id": "cfd9fac9",
   "metadata": {
    "lines_to_next_cell": 2
   },
   "outputs": [],
   "source": [
    "# Sang.load_experiment(confocal_template = '/Users/oleg/Google Drive/10.5.18/AngularScan/120/AngularScan300bpConf*.mat',\n",
    "#                     sted_template = '/Users/oleg/Google Drive/10.5.18/AngularScan/120/AngularScan300bpSted*.mat',\n",
    "#                     file_selection='Use 0')\n",
    "\n",
    "Sang.load_experiment(\n",
    "    confocal_template=\"/Users/oleg/Google Drive/10.5.18/AngularScan/120/AngularScan300bpConf*.mat\",\n",
    "    sted_template=\"/Users/oleg/Google Drive/10.5.18/AngularScan/120/AngularScan300bpSted*.mat\",\n",
    ")"
   ]
  },
  {
   "cell_type": "code",
   "execution_count": null,
   "id": "db3fc2af",
   "metadata": {},
   "outputs": [],
   "source": [
    "Sang.plot_correlation_functions()"
   ]
  },
  {
   "cell_type": "code",
   "execution_count": null,
   "id": "2f1b6fb0",
   "metadata": {
    "title": "calibrate TDC"
   },
   "outputs": [],
   "source": [
    "Sang.calibrate_tdc()"
   ]
  },
  {
   "cell_type": "code",
   "execution_count": null,
   "id": "651db377",
   "metadata": {
    "lines_to_next_cell": 2
   },
   "outputs": [],
   "source": [
    "Sang.compare_lifetimes()"
   ]
  },
  {
   "cell_type": "code",
   "execution_count": null,
   "id": "48d5cba1",
   "metadata": {},
   "outputs": [],
   "source": [
    "Sang.add_gate(gate_ns=(4, 6), verbose=True)"
   ]
  },
  {
   "cell_type": "code",
   "execution_count": null,
   "id": "d831e446",
   "metadata": {
    "title": "try cross correlation"
   },
   "outputs": [],
   "source": [
    "\n",
    "CF_AB_4_6_40_80, *_ = Sang.sted.cross_correlate_data(\n",
    "    corr_names=(\"AB\",),\n",
    "    cf_name=\"Afterpulsing\",\n",
    "    gate1_ns=Limits(4, 6),\n",
    "    gate2_ns=Limits(40, 80),\n",
    "    should_subtract_afterpulse=False,\n",
    "    # should_subtract_bg_corr=False,\n",
    "    # should_rotate_data=False,  # abort data rotation decorator\n",
    ")\n",
    "CF_AB_4_6_40_80.average_correlation()\n",
    "CF_AB_4_6_40_80.plot_correlation_function()"
   ]
  },
  {
   "cell_type": "code",
   "execution_count": null,
   "id": "120f1853",
   "metadata": {},
   "outputs": [],
   "source": [
    "CF_AB, *_ = Sang.sted.cross_correlate_data(\n",
    "    corr_names=(\"AB\",),\n",
    "    cf_name=\"Afterpulsing\",\n",
    "    gate1_ns=Limits(2, 10),\n",
    "    gate2_ns=Limits(40, 80),\n",
    "    should_subtract_afterpulse=False,\n",
    "    # should_subtract_bg_corr=False,\n",
    "    # should_rotate_data=False,  # abort data rotation decorator\n",
    ")\n",
    "CF_AB.average_correlation()\n",
    "CF_AB.plot_correlation_function()\n",
    "\n",
    "CF_AB_2_10_40_80 = CF_AB"
   ]
  },
  {
   "cell_type": "code",
   "execution_count": null,
   "id": "a0109011",
   "metadata": {},
   "outputs": [],
   "source": [
    "CF_AB, *_ = Sang.sted.cross_correlate_data(\n",
    "    corr_names=(\"AB\",),\n",
    "    cf_name=\"Afterpulsing\",\n",
    "    gate1_ns=Limits(2, 10),\n",
    "    gate2_ns=Limits(60, 80),\n",
    "    should_subtract_afterpulse=False,\n",
    "    # should_subtract_bg_corr=False,\n",
    "    # should_rotate_data=False,  # abort data rotation decorator\n",
    ")\n",
    "CF_AB.average_correlation()\n",
    "CF_AB.plot_correlation_function()\n",
    "\n",
    "CF_AB_2_10_60_80 = CF_AB"
   ]
  },
  {
   "cell_type": "code",
   "execution_count": null,
   "id": "720500d4",
   "metadata": {},
   "outputs": [],
   "source": [
    "CF_AB, *_ = Sang.confocal.cross_correlate_data(\n",
    "    corr_names=(\"AB\",),\n",
    "    cf_name=\"Afterpulsing\",\n",
    "    gate1_ns=Limits(2, 10),\n",
    "    gate2_ns=Limits(60, 80),\n",
    "    should_subtract_afterpulse=False,\n",
    "    # should_subtract_bg_corr=False,\n",
    "    # should_rotate_data=False,  # abort data rotation decorator\n",
    ")\n",
    "CF_AB.average_correlation()\n",
    "CF_AB.plot_correlation_function()\n",
    "\n",
    "CF_ABconf_2_10_60_80 = CF_AB"
   ]
  },
  {
   "cell_type": "code",
   "execution_count": null,
   "id": "d22e7627",
   "metadata": {
    "title": "Add gate in the background part"
   },
   "outputs": [],
   "source": [
    "CF_AB, *_ = Sang.confocal.cross_correlate_data(\n",
    "    corr_names=(\"AA\",),\n",
    "    cf_name=\"Afterpulsing\",\n",
    "    gate1_ns=Limits(40, 90),\n",
    "    gate2_ns=Limits(40, 90),\n",
    "    should_subtract_afterpulse=False,\n",
    "    # should_subtract_bg_corr=False,\n",
    "    # should_rotate_data=False,  # abort data rotation decorator\n",
    ")\n",
    "\n",
    "#\n",
    "CF_AB.average_correlation()\n",
    "CF_AB.plot_correlation_function()\n",
    "CF_conf_40_90 = CF_AB"
   ]
  },
  {
   "cell_type": "code",
   "execution_count": null,
   "id": "a9f80925",
   "metadata": {
    "title": "Add gate in the background part"
   },
   "outputs": [],
   "source": [
    "CF_AB, *_ = Sang.confocal.cross_correlate_data(\n",
    "    corr_names=(\"AA\",),\n",
    "    cf_name=\"Afterpulsing\",\n",
    "    gate1_ns=Limits(40, 75),\n",
    "    gate2_ns=Limits(40, 75),\n",
    "    should_subtract_afterpulse=False,\n",
    "    # should_subtract_bg_corr=False,\n",
    "    # should_rotate_data=False,  # abort data rotation decorator\n",
    ")\n",
    "\n",
    "#\n",
    "CF_AB.average_correlation()\n",
    "CF_AB.plot_correlation_function()\n",
    "CF_conf_40_75 = CF_AB"
   ]
  },
  {
   "cell_type": "code",
   "execution_count": null,
   "id": "13958025",
   "metadata": {
    "lines_to_next_cell": 2
   },
   "outputs": [],
   "source": [
    "plt.cla()\n",
    "# plt.semilogx(CF_AB_4_6_40_80.lag[1:], CF_AB_4_6_40_80.avg_cf_cr[1:]/CF_AB_4_6_40_80.countrate_list[0].a)\n",
    "plt.semilogx(\n",
    "    CF_ABconf_2_10_60_80.lag[1:],\n",
    "    CF_ABconf_2_10_60_80.avg_cf_cr[1:] / CF_ABconf_2_10_60_80.countrate_list[0].a,\n",
    ")\n",
    "# plt.semilogx(CF_AB_2_10_60_80.lag[1:], CF_AB_2_10_60_80.avg_cf_cr[1:]/CF_AB_2_10_60_80.countrate_list[0].a)\n",
    "plt.semilogx(Sang.confocal.cf[\"confocal\"].lag, Sang.confocal.cf[\"confocal\"].afterpulse)\n",
    "plt.semilogx(CF_conf_40_90.lag[1:], CF_conf_40_90.avg_cf_cr[1:] / CF_conf_40_90.countrate_list[0])\n",
    "plt.semilogx(CF_conf_40_75.lag[1:], CF_conf_40_75.avg_cf_cr[1:] / CF_conf_40_75.countrate_list[0])\n",
    "# plt.semilogx(sted.lag[1:], sted.afterpulse[1:]/500)\n",
    "plt.show()"
   ]
  },
  {
   "cell_type": "code",
   "execution_count": null,
   "id": "1aa26bc0",
   "metadata": {
    "lines_to_next_cell": 2
   },
   "outputs": [],
   "source": [
    "plt.cla()\n",
    "# plt.semilogx(CF_AB_4_6_40_80.lag[1:], CF_AB_4_6_40_80.avg_cf_cr[1:]/CF_AB_4_6_40_80.countrate_list[0].a)\n",
    "plt.semilogx(\n",
    "    CF_ABconf_2_10_60_80.lag[1:],\n",
    "    CF_ABconf_2_10_60_80.avg_cf_cr[1:]\n",
    "    / CF_ABconf_2_10_60_80.countrate_list[0].a\n",
    "    * CF_ABconf_2_10_60_80.countrate_list[0].b\n",
    "    * 98\n",
    "    / 20,\n",
    ")\n",
    "# plt.semilogx(CF_AB_2_10_60_80.lag[1:], CF_AB_2_10_60_80.avg_cf_cr[1:]/CF_AB_2_10_60_80.countrate_list[0].a)\n",
    "plt.semilogx(Sang.confocal.cf[\"confocal\"].lag, Sang.confocal.cf[\"confocal\"].afterpulse)\n",
    "plt.semilogx(CF_conf_40_90.lag[1:], CF_conf_40_90.avg_cf_cr[1:])\n",
    "plt.semilogx(CF_conf_40_75.lag[1:], CF_conf_40_75.avg_cf_cr[1:])\n",
    "# plt.semilogx(sted.lag[1:], sted.afterpulse[1:]/500)\n",
    "plt.show()"
   ]
  },
  {
   "cell_type": "code",
   "execution_count": null,
   "id": "ebe7ef48",
   "metadata": {
    "lines_to_next_cell": 2,
    "title": "evaluate average intensity"
   },
   "outputs": [],
   "source": [
    "CF = CF_ABconf_2_10_60_80\n",
    "cr = np.array([x.b for x in CF.countrate_list])"
   ]
  },
  {
   "cell_type": "code",
   "execution_count": null,
   "id": "b8e25b29",
   "metadata": {
    "title": "try cross correlation"
   },
   "outputs": [],
   "source": [
    "\n",
    "CFlist = Sang.sted.cross_correlate_data(\n",
    "    cf_name=\"Afterpulsing\",\n",
    "    gate1_ns=Limits(4, 6),\n",
    "    gate2_ns=Limits(4, 6),\n",
    "    should_subtract_afterpulse=False,\n",
    "    # should_subtract_bg_corr=False,\n",
    "    # should_rotate_data=False,  # abort data rotation decorator\n",
    ")\n",
    "for CF in CFlist:\n",
    "    CF.average_correlation()"
   ]
  },
  {
   "cell_type": "code",
   "execution_count": null,
   "id": "be0092b9",
   "metadata": {},
   "outputs": [],
   "source": [
    "CF_4_6 = CFlist[2]"
   ]
  },
  {
   "cell_type": "code",
   "execution_count": null,
   "id": "4a4ca880",
   "metadata": {
    "lines_to_next_cell": 2
   },
   "outputs": [],
   "source": [
    "plt.cla()\n",
    "for CF in CFlist:\n",
    "    CF.plot_correlation_function()\n",
    "plt.show()"
   ]
  },
  {
   "cell_type": "code",
   "execution_count": null,
   "id": "dbfba211",
   "metadata": {},
   "outputs": [],
   "source": [
    "plt.cla()\n",
    "for CF in CFlist:\n",
    "    plt.semilogx(CF.lag, CF.average_all_cf_cr)\n",
    "\n",
    "plt.show()"
   ]
  },
  {
   "cell_type": "code",
   "execution_count": null,
   "id": "f907a3bf",
   "metadata": {
    "lines_to_next_cell": 0
   },
   "outputs": [],
   "source": [
    "CFlist = Sang.sted.cross_correlate_data(\n",
    "    cf_name=\"Afterpulsing\",\n",
    "    gate1_ns=Limits(4, 6),\n",
    "    gate2_ns=Limits(40, 80),\n",
    "    should_subtract_afterpulse=False,\n",
    "    # should_subtract_bg_corr=False,\n",
    "    # should_rotate_data=False,  # abort data rotation decorator\n",
    ")\n",
    "for CF in CFlist:\n",
    "    CF.average_correlation()\n",
    "\n",
    "\n",
    "CF_4_6_40_80 = CFlist[2]"
   ]
  },
  {
   "cell_type": "code",
   "execution_count": null,
   "id": "565a961c",
   "metadata": {
    "lines_to_next_cell": 2
   },
   "outputs": [],
   "source": [
    "plt.cla()\n",
    "for CF in CFlist[:4]:\n",
    "    plt.semilogx(CF.lag, CF.average_all_cf_cr)\n",
    "\n",
    "plt.show()"
   ]
  },
  {
   "cell_type": "code",
   "execution_count": null,
   "id": "44c088ef",
   "metadata": {},
   "outputs": [],
   "source": [
    "\n",
    "plt.cla()\n",
    "plt.semilogx(CFlist[3].lag[1:], CFlist[3].avg_cf_cr[1:])\n",
    "plt.semilogx(CFlist[2].lag[1:], CFlist[2].avg_cf_cr[1:])\n",
    "\n",
    "plt.show()"
   ]
  },
  {
   "cell_type": "code",
   "execution_count": null,
   "id": "376372aa",
   "metadata": {
    "lines_to_next_cell": 2
   },
   "outputs": [],
   "source": [
    "CFlist = Sang.sted.cross_correlate_data(\n",
    "    cf_name=\"Afterpulsing\",\n",
    "    gate1_ns=Limits(4, 6),\n",
    "    gate2_ns=Limits(40, 80),\n",
    "    should_subtract_afterpulse=False,\n",
    "    # should_subtract_bg_corr=False,\n",
    "    # should_rotate_data=False,  # abort data rotation decorator\n",
    ")\n",
    "for CF in CFlist:\n",
    "    CF.average_correlation()\n",
    "\n",
    "CF_4_6 = CFlist[2]"
   ]
  },
  {
   "cell_type": "code",
   "execution_count": null,
   "id": "550c0505",
   "metadata": {},
   "outputs": [],
   "source": [
    "CFlist = Sang.sted.cross_correlate_data(\n",
    "    cf_name=\"Afterpulsing\",\n",
    "    gate1_ns=Limits(2, 4),\n",
    "    gate2_ns=Limits(75, 80),\n",
    "    should_subtract_afterpulse=False,\n",
    "    # should_subtract_bg_corr=False,\n",
    "    # should_rotate_data=False,  # abort data rotation decorator\n",
    ")\n",
    "for CF in CFlist:\n",
    "    CF.average_correlation()\n",
    "\n",
    "CF_4_6_40_60 = CFlist[2]"
   ]
  },
  {
   "cell_type": "code",
   "execution_count": null,
   "id": "ed58fc95",
   "metadata": {},
   "outputs": [],
   "source": [
    "\n",
    "sted = Sang.sted.cf[\"sted\"]\n",
    "plt.cla()\n",
    "plt.semilogx(CF_2_10.lag[1:], CF_2_10.avg_cf_cr[1:] / CF_2_10.countrate_list[0][0])\n",
    "plt.semilogx(CF_4_6.lag[1:], CF_4_6.avg_cf_cr[1:] / CF_4_6.countrate_list[0][0])\n",
    "plt.semilogx(CF_4_6_40_60.lag[1:], CF_4_6_40_60.avg_cf_cr[1:] / CF_4_6_40_60.countrate_list[0][0])\n",
    "# plt.semilogx(sted.lag[1:], sted.afterpulse[1:]/500)\n",
    "plt.show()"
   ]
  },
  {
   "cell_type": "code",
   "execution_count": null,
   "id": "b97b2dfb",
   "metadata": {
    "lines_to_next_cell": 2
   },
   "outputs": [],
   "source": [
    "Sang.add_gate(gate_ns=(6, 20), verbose=True)"
   ]
  },
  {
   "cell_type": "code",
   "execution_count": null,
   "id": "9b728353",
   "metadata": {
    "title": "load confocal"
   },
   "outputs": [],
   "source": [
    "Sang = SFCSExperiment()\n",
    "Sang.load_experiment(\n",
    "    \"confocal\", \"/Users/oleg/Google Drive/10.5.18/AngularScan/120/AngularScan300bpConf*.mat\"\n",
    ")"
   ]
  },
  {
   "cell_type": "code",
   "execution_count": null,
   "id": "59ce2b53",
   "metadata": {
    "title": "load sted"
   },
   "outputs": [],
   "source": [
    "Sang.load_experiment(\n",
    "    \"sted\", \"/Users/oleg/Google Drive/10.5.18/AngularScan/120/AngularScan300bpSted*.mat\"\n",
    ")"
   ]
  },
  {
   "cell_type": "code",
   "execution_count": null,
   "id": "3a350fe6",
   "metadata": {
    "lines_to_next_cell": 2
   },
   "outputs": [],
   "source": [
    "plt.cla()\n",
    "Sang.plot_correlation_functions()"
   ]
  },
  {
   "cell_type": "code",
   "execution_count": null,
   "id": "64309f4a",
   "metadata": {
    "lines_to_next_cell": 2,
    "title": "calibrate TDC"
   },
   "outputs": [],
   "source": []
  },
  {
   "cell_type": "code",
   "execution_count": null,
   "id": "7a28ae4d",
   "metadata": {
    "lines_to_next_cell": 2,
    "title": "old angular scan data"
   },
   "outputs": [],
   "source": [
    "Sang = CorrFuncTDC()\n",
    "Sang.read_fpga_data(\n",
    "    \"/Users/oleg/Google Drive/10.5.18/AngularScan/120/AngularScan300bpSted*.mat\",\n",
    "    should_fix_shift=True,\n",
    ")  # fixing shift since these are old data"
   ]
  },
  {
   "cell_type": "code",
   "execution_count": null,
   "id": "f0284033",
   "metadata": {
    "title": "Atto of 100821"
   },
   "outputs": [],
   "source": [
    "\n",
    "Sang = CorrFuncTDC()\n",
    "Sang.read_fpga_data(\n",
    "    \"/Users/oleg/Documents/Students/Ido Michaelovich/Experiments/100821/Atto488_20uW_angular_exc_121936_*.pkl\"\n",
    ")\n",
    "\n",
    "\n",
    "# #%%  ****** test angular scan *********\n",
    "# Sang = CorrFuncTDC()\n",
    "# Sang.read_fpga_data('/Users/oleg/Google Drive/10.5.18/AngularScan/120/AngularScan300bpSted*.mat',\n",
    "#                     should_fix_shift = True) #fixing shift since these are old data"
   ]
  },
  {
   "cell_type": "code",
   "execution_count": null,
   "id": "c9cb2d1e",
   "metadata": {
    "title": "Correlate"
   },
   "outputs": [],
   "source": [
    "Sang.correlate_and_average()"
   ]
  },
  {
   "cell_type": "code",
   "execution_count": null,
   "id": "7245dcd5",
   "metadata": {
    "title": "if need just to plot"
   },
   "outputs": [],
   "source": [
    "plt.cla()\n",
    "Sang.plot_correlation_functions()"
   ]
  },
  {
   "cell_type": "code",
   "execution_count": null,
   "id": "7126d751",
   "metadata": {},
   "outputs": [],
   "source": [
    "Sang.calibrate_tdc()"
   ]
  },
  {
   "cell_type": "code",
   "execution_count": null,
   "id": "24fe860f",
   "metadata": {},
   "outputs": [],
   "source": [
    "Sang.correlate_and_average(gate_ns=(4, 20), verbose=True)"
   ]
  },
  {
   "cell_type": "code",
   "execution_count": null,
   "id": "4710eebd",
   "metadata": {
    "lines_to_next_cell": 2
   },
   "outputs": [],
   "source": [
    "plt.cla()\n",
    "Sang.plot_correlation_functions()"
   ]
  },
  {
   "cell_type": "code",
   "execution_count": null,
   "id": "b81d1145",
   "metadata": {},
   "outputs": [],
   "source": [
    "Sang.correlate_and_average(gate_ns=(6, 20), verbose=True)"
   ]
  },
  {
   "cell_type": "code",
   "execution_count": null,
   "id": "45b31194",
   "metadata": {
    "lines_to_next_cell": 2
   },
   "outputs": [],
   "source": [
    "plt.cla()\n",
    "Sang.plot_correlation_functions()"
   ]
  },
  {
   "cell_type": "code",
   "execution_count": null,
   "id": "8e8902c6",
   "metadata": {
    "title": "Atto of 100821"
   },
   "outputs": [],
   "source": [
    "\n",
    "S = CorrFuncTDC()\n",
    "S.read_fpga_data(\n",
    "    \"/Users/oleg/Documents/Students/Ido Michaelovich/Experiments/051021/sol_static_sted_183413_*.pkl\"\n",
    ")"
   ]
  },
  {
   "cell_type": "code",
   "execution_count": null,
   "id": "b0fa8d64",
   "metadata": {
    "title": "Correlate"
   },
   "outputs": [],
   "source": [
    "S.correlate_and_average(cf_name=\"CW STED\", verbose=True)"
   ]
  },
  {
   "cell_type": "code",
   "execution_count": null,
   "id": "4833521a",
   "metadata": {
    "title": "if need just to plot"
   },
   "outputs": [],
   "source": [
    "plt.cla()\n",
    "S.plot_correlation_functions()"
   ]
  },
  {
   "cell_type": "code",
   "execution_count": null,
   "id": "4f0de5e7",
   "metadata": {},
   "outputs": [],
   "source": [
    "S.calibrate_tdc()"
   ]
  },
  {
   "cell_type": "code",
   "execution_count": null,
   "id": "eece48e2",
   "metadata": {},
   "outputs": [],
   "source": [
    "plt.subplot(111)\n",
    "S.fit_lifetime_hist(fit_range=(2, 40))\n",
    "for key, item in S.tdc_calib[\"fit_param\"].items():\n",
    "    print(key + \":\")\n",
    "    print(\"fit parameters:  \" + str(item[\"beta\"]))"
   ]
  },
  {
   "cell_type": "code",
   "execution_count": null,
   "id": "96df4e10",
   "metadata": {
    "title": "Correlate"
   },
   "outputs": [],
   "source": [
    "S.correlate_and_average(gate_ns=(4, 20), verbose=True)"
   ]
  },
  {
   "cell_type": "code",
   "execution_count": null,
   "id": "5e1cb7c7",
   "metadata": {
    "lines_to_next_cell": 2
   },
   "outputs": [],
   "source": [
    "plt.cla()\n",
    "S.plot_correlation_functions()"
   ]
  },
  {
   "cell_type": "code",
   "execution_count": null,
   "id": "eb9fe2f4",
   "metadata": {
    "title": "****** test angular scan *********"
   },
   "outputs": [],
   "source": [
    "Sang = CorrFuncTDC()\n",
    "Sang.read_fpga_data(\n",
    "    \"/Users/oleg/Google Drive/10.5.18/AngularScan/120/AngularScan300bpSted*.mat\",\n",
    "    should_fix_shift=True,\n",
    ")  # fixing shift since these are old data\n",
    "\n",
    "# Sang.after_pulse_param = S.after_pulse_param # a patch: in these data a different from multi_exponent_fit model is used for afterpulsing"
   ]
  },
  {
   "cell_type": "code",
   "execution_count": null,
   "id": "7b5ed591",
   "metadata": {
    "lines_to_next_cell": 2,
    "title": "Correlate"
   },
   "outputs": [],
   "source": [
    "Sang.correlate_and_average()"
   ]
  },
  {
   "cell_type": "code",
   "execution_count": null,
   "id": "a516f907",
   "metadata": {},
   "outputs": [],
   "source": [
    "Sang.calibrate_tdc()"
   ]
  },
  {
   "cell_type": "code",
   "execution_count": null,
   "id": "7050c0f7",
   "metadata": {},
   "outputs": [],
   "source": [
    "plt.subplot(111)\n",
    "plt.cla()\n",
    "Sang.fit_lifetime_hist()"
   ]
  },
  {
   "cell_type": "code",
   "execution_count": null,
   "id": "3eb98c49",
   "metadata": {},
   "outputs": [],
   "source": [
    "plt.subplot(111)\n",
    "S.fit_lifetime_hist(fit_range=(3, 40))\n",
    "for key, item in S.tdc_calib[\"fit_param\"].items():\n",
    "    print(key + \":\")\n",
    "    print(\"fit parameters:  \" + str(item[\"beta\"]))"
   ]
  },
  {
   "cell_type": "code",
   "execution_count": null,
   "id": "62899366",
   "metadata": {
    "lines_to_next_cell": 0,
    "title": "if need just to plot"
   },
   "outputs": [],
   "source": [
    "plt.cla()\n",
    "Sang.plot_correlation_functions()"
   ]
  },
  {
   "cell_type": "code",
   "execution_count": null,
   "id": "b354baa8",
   "metadata": {},
   "outputs": [],
   "source": [
    "plt.cla()\n",
    "Sang.fit_correlation_function()"
   ]
  },
  {
   "cell_type": "code",
   "execution_count": null,
   "id": "892e4bc9",
   "metadata": {
    "lines_to_next_cell": 2
   },
   "outputs": [],
   "source": [
    "Sang.calibrate_tdc()"
   ]
  },
  {
   "cell_type": "code",
   "execution_count": null,
   "id": "b97e7421",
   "metadata": {
    "title": "Load static Data"
   },
   "outputs": [],
   "source": [
    "S = CorrFuncTDC()\n",
    "S.read_fpga_data(\n",
    "    \"/Users/oleg/Documents/Experiments/STED/For testing Python/solScan_exc_5_mins_2204/solScan_exc_*.mat\"\n",
    ")"
   ]
  },
  {
   "cell_type": "code",
   "execution_count": null,
   "id": "3048c62f",
   "metadata": {
    "title": "Correlate"
   },
   "outputs": [],
   "source": [
    "S.correlate_and_average()"
   ]
  },
  {
   "cell_type": "code",
   "execution_count": null,
   "id": "0d7c8c5d",
   "metadata": {
    "lines_to_next_cell": 0,
    "title": "if need just to plot"
   },
   "outputs": [],
   "source": [
    "plt.cla()\n",
    "S.plot_correlation_function()"
   ]
  },
  {
   "cell_type": "code",
   "execution_count": null,
   "id": "60ea7bf3",
   "metadata": {},
   "outputs": [],
   "source": [
    "plt.cla()\n",
    "S.fit_correlation_function(should_plot=True)"
   ]
  },
  {
   "cell_type": "code",
   "execution_count": null,
   "id": "ea2d94f9",
   "metadata": {},
   "outputs": [],
   "source": [
    "S.calibrate_tdc()"
   ]
  },
  {
   "cell_type": "code",
   "execution_count": null,
   "id": "a45e3114",
   "metadata": {},
   "outputs": [],
   "source": [
    "S.fit_lifetime_hist()"
   ]
  },
  {
   "cell_type": "code",
   "execution_count": null,
   "id": "544d8f50",
   "metadata": {
    "lines_to_next_cell": 0
   },
   "outputs": [],
   "source": [
    "plt.subplot(111)\n",
    "S.fit_lifetime_hist(fit_range=(3, 40))\n",
    "for key, item in S.tdc_calib[\"fit_param\"].items():\n",
    "    print(key + \":\")\n",
    "    print(\"fit parameters:  \" + str(item[\"beta\"]))"
   ]
  },
  {
   "cell_type": "code",
   "execution_count": null,
   "id": "36be9d5b",
   "metadata": {},
   "outputs": [],
   "source": [
    "plt.cla()\n",
    "S.compare_lifetimes(legend_label=\"staticTest\")"
   ]
  },
  {
   "cell_type": "code",
   "execution_count": null,
   "id": "2519b540",
   "metadata": {
    "title": "check of compare_lifetimes would work with two objects"
   },
   "outputs": [],
   "source": [
    "plt.subplot(111)\n",
    "plt.cla()\n",
    "S.compare_lifetimes(legend_label=\"staticTest\", angularScan=Sang)"
   ]
  },
  {
   "cell_type": "code",
   "execution_count": null,
   "id": "f630e756",
   "metadata": {
    "title": "old angular scan data"
   },
   "outputs": [],
   "source": [
    "Sang = CorrFuncTDC()\n",
    "Sang.read_fpga_data(\"/Users/oleg/Google Drive/10.5.18/AngularScan/120/AngularScan300bpConf*.mat\")"
   ]
  },
  {
   "cell_type": "code",
   "execution_count": null,
   "id": "be31e92c",
   "metadata": {},
   "outputs": [],
   "source": [
    "Sang.calibrate_tdc()"
   ]
  },
  {
   "cell_type": "code",
   "execution_count": null,
   "id": "f58df690",
   "metadata": {
    "lines_to_next_cell": 2
   },
   "outputs": [],
   "source": [
    "plt.cla()\n",
    "\n",
    "Sang.fit_lifetime_hist(fit_range=(3, 40))\n",
    "for key, item in Sang.tdc_calib[\"fit_param\"].items():\n",
    "    print(key + \":\")\n",
    "    print(\"fit parameters:  \" + str(item[\"beta\"]))"
   ]
  },
  {
   "cell_type": "code",
   "execution_count": null,
   "id": "cd4375ec",
   "metadata": {
    "title": "Atto of 100821"
   },
   "outputs": [],
   "source": [
    "\n",
    "Sang = CorrFuncTDC()\n",
    "Sang.read_fpga_data(\n",
    "    \"/Users/oleg/Documents/Students/Ido Michaelovich/Experiments/100821/Atto488_20uW_angular_exc_121936_*.pkl\"\n",
    ")"
   ]
  },
  {
   "cell_type": "code",
   "execution_count": null,
   "id": "c1ea8324",
   "metadata": {
    "lines_to_next_cell": 2,
    "title": "Correlate"
   },
   "outputs": [],
   "source": [
    "Sang.correlate_and_average()"
   ]
  },
  {
   "cell_type": "code",
   "execution_count": null,
   "id": "a841071e",
   "metadata": {},
   "outputs": [],
   "source": [
    "Sang.calibrate_tdc()"
   ]
  },
  {
   "cell_type": "code",
   "execution_count": null,
   "id": "a2b8f476",
   "metadata": {},
   "outputs": [],
   "source": [
    "plt.subplot(111)\n",
    "plt.cla()\n",
    "Sang.fit_lifetime_hist()"
   ]
  },
  {
   "cell_type": "code",
   "execution_count": null,
   "id": "4492e777",
   "metadata": {},
   "outputs": [],
   "source": [
    "plt.subplot(111)\n",
    "S.fit_lifetime_hist(fit_range=(3, 40))\n",
    "for key, item in S.tdc_calib[\"fit_param\"].items():\n",
    "    print(key + \":\")\n",
    "    print(\"fit parameters:  \" + str(item[\"beta\"]))"
   ]
  }
 ],
 "metadata": {
  "jupytext": {
   "cell_metadata_filter": "title,-all",
   "encoding": "# -*- coding: utf-8 -*-",
   "executable": "/usr/bin/env python3",
   "main_language": "python",
   "notebook_metadata_filter": "-all"
  }
 },
 "nbformat": 4,
 "nbformat_minor": 5
}
