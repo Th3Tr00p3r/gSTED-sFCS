{
 "cells": [
  {
   "cell_type": "markdown",
   "id": "14410d4f",
   "metadata": {},
   "source": [
    "- Import core and 3rd party modules\n",
    "- Move current working directory to project root (if needed) and import project modules\n",
    "- Set data paths and other constants"
   ]
  },
  {
   "cell_type": "code",
   "execution_count": null,
   "id": "a157fc00",
   "metadata": {},
   "outputs": [],
   "source": [
    "######################################\n",
    "# importing core and 3rd-party modules\n",
    "######################################\n",
    "\n",
    "import os\n",
    "import pickle\n",
    "import re\n",
    "import scipy\n",
    "from pathlib import Path\n",
    "from winsound import Beep\n",
    "from contextlib import suppress\n",
    "\n",
    "import matplotlib as mpl\n",
    "\n",
    "mpl.use(\"nbAgg\")\n",
    "import numpy as np\n",
    "from IPython.core.debugger import set_trace\n",
    "from matplotlib import pyplot as plt\n",
    "from scipy.fft import fft, ifft\n",
    "\n",
    "###############################################\n",
    "# Move to project root to easily import modules\n",
    "###############################################\n",
    "\n",
    "try:  # avoid changes if already set\n",
    "    print(\"Working from: \", PROJECT_ROOT)\n",
    "except NameError:\n",
    "    try:  # running from Spyder\n",
    "        PROJECT_ROOT = Path(__file__).resolve()\n",
    "    except NameError:  # running as Jupyter Notebook\n",
    "        PROJECT_ROOT = Path(os.getcwd()).resolve().parent.parent\n",
    "    os.chdir(PROJECT_ROOT)\n",
    "    print(\"Working from: \", PROJECT_ROOT)\n",
    "\n",
    "from data_analysis.correlation_function import CorrFunc, SFCSExperiment, SolutionSFCSMeasurement\n",
    "from data_analysis.software_correlator import CorrelatorType, SoftwareCorrelator\n",
    "from utilities.display import Plotter, get_gradient_colormap\n",
    "from utilities.file_utilities import (\n",
    "    default_system_info,\n",
    "    load_mat,\n",
    "    load_object,\n",
    "    save_object,\n",
    "    save_processed_solution_meas,\n",
    ")\n",
    "from utilities.helper import Limits, fourier_transform_1d, extrapolate_over_noise\n",
    "\n",
    "#################################################\n",
    "# Setting up data path and other global constants\n",
    "#################################################\n",
    "\n",
    "DATA_ROOT = Path(\"D:\\OneDrive - post.bgu.ac.il\\gSTED_sFCS_Data\")  # Laptop/Lab PC (same path)\n",
    "# DATA_ROOT = Path(\"D:\\???\")  # Oleg's\n",
    "DATA_TYPE = \"solution\"\n",
    "\n",
    "FORCE_PROCESSING = False\n",
    "FORCE_PROCESSING = True"
   ]
  },
  {
   "cell_type": "markdown",
   "id": "4051b44a",
   "metadata": {},
   "source": [
    "## Afterpulsing removal through de-convolution"
   ]
  },
  {
   "cell_type": "markdown",
   "id": "15eae375",
   "metadata": {},
   "source": [
    "### Derivation\n",
    "Let us define $F(t)$ as the signal at time $t$, and $p(t)$ as the probability density per unit time of afterpulsing at time $t$. We have, therefore:\n",
    "$$\n",
    "\\delta I(t) = \\int \\delta F(t-t')p(t')dt'\n",
    "$$\n",
    "\n",
    "Presenting $F$ and $p$ as reverse Fourier transforms\n",
    "$$\n",
    "\\delta F(t) = \\frac{1}{\\sqrt{2\\pi}}\\int d\\omega\\delta F(\\omega)e^{i\\omega t}\n",
    "$$\n",
    "$$\n",
    "\\delta p(t) = \\frac{1}{\\sqrt{2\\pi}}\\int d\\omega'\\delta p(\\omega')e^{i\\omega't}\n",
    "$$\n",
    "\n",
    "and plugging back in:\n",
    "$$\n",
    "\\delta I(t) = \\frac{1}{2\\pi}\\int d\\omega d\\omega'\\delta F(\\omega)p(\\omega') \\int_{-\\infty}^\\infty e^{i[\\omega(t-t')+\\omega't']}dt'\n",
    "$$\n",
    "\n",
    "we notice that the last integral yields a delta function $e^{i\\omega t}\\delta(\\omega'-\\omega)$:\n",
    "$$\n",
    "= \\int\\delta\\omega F(\\omega)p(\\omega)e^{i\\omega t}\n",
    "$$\n",
    "\n",
    "Now, for the ACF. We conjugate $\\delta I(t')$ for convenience (it is real):\n",
    "$$\n",
    "G(t)=\\langle\\delta I(0)\\delta I(t)\\rangle = \\frac{1}{2T}\\int dt' \\langle\\delta I^*(t')\\delta I(t'+t)\\rangle\n",
    "$$\n",
    "$$\n",
    "= \\frac{1}{2T}\\frac{1}{(2\\pi)^2}\\int d\\omega d\\omega'\\delta F^*(\\omega)p^*(\\omega)\\delta F(\\omega')p(\\omega')\\int dt' e^{-i(\\omega'-\\omega) t'}e^{i\\omega' t}\n",
    "$$\n",
    "\n",
    "and after noticing yet another delta function:\n",
    "$$\n",
    "=\\frac{1}{2T}\\frac{1}{(2\\pi)^2}\\int d\\omega |F(\\omega)|^2|p(\\omega)|^2e^{i\\omega t}\n",
    "$$\n",
    "\n",
    "Noticing that this is a reverse Fourier transform, we can perform a Fourier transform to extract the product of $F$ and $p$:\n",
    "$$\n",
    "FT\\left[G(t)\\right]=G(\\omega)=\\frac{1}{2T}\\frac{1}{(2\\pi)^{3/2}}|F(\\omega)|^2|p(\\omega)|^2\n",
    "$$\n",
    "\n",
    "So, the Fourier transform of the afterpulsed ACF is proportional to the Fourier transform of the afterpulsing-clean ACF times the Fourier transform of the afterpulsing ACF. In other words, the afterpulsing seperates from the signal in Fourier  space.\n",
    "\n",
    "We already saw (see above, for old detector data) that cross-correlating signal at different gates (signal vs. white noise tail) yields the afterpulsing. Until now we subtracted it from the ACF on grounds that the afterpulsing was strong at lag-times where the clean ACF was unintersting. We can attempt now to get rid of afterpulsing in a more general way:\n",
    "$$\n",
    "\\frac{G_{ap\\ signal}(\\omega)}{G_{ap}(\\omega)} = \\frac{|F(\\omega)|^2|p(\\omega)|^2}{|p(\\omega)|^2}=|F(\\omega)|^2 = G_{signal}(\\omega)\n",
    "$$\n",
    "\n",
    "Where $G_{ap\\ signal}(\\omega)$ is Fourier-transformed afterpulsed signal, $G_{ap}(\\omega)$ is the Fourier-transformed cross-correlated signal afterpulsing and $G_{signal}(\\omega)$ is the afterpulse-free Fourier-transformed ACF.\n",
    "\n",
    "We may need to reverse-transform $G_{signal}(\\omega)$, since we need the regular-time ACF to perform the Hankel transform on (spatial 2D Fourier transform) for deconvoluting the PSF from the structure factor (in exactly the same process!).\n",
    "\n",
    "NOTE: is there a way to do it without reverse-transforming?"
   ]
  },
  {
   "cell_type": "markdown",
   "id": "99a72ef3",
   "metadata": {},
   "source": [
    "### Testing"
   ]
  },
  {
   "cell_type": "markdown",
   "id": "4f7017af",
   "metadata": {},
   "source": [
    "Here we would like to test the above method on old detector measurements (since for them we can compare this method to the well-tested subtraction method)."
   ]
  },
  {
   "cell_type": "markdown",
   "id": "5475f857",
   "metadata": {},
   "source": [
    "We begin by loading the measurement and calibrating the TDC:"
   ]
  },
  {
   "cell_type": "code",
   "execution_count": null,
   "id": "179f8ad9",
   "metadata": {},
   "outputs": [],
   "source": [
    "DATA_DATE = \"10_05_2018\"\n",
    "confocal_template = \"bp300_angular_sted_*.mat\"\n",
    "label = \"MATLAB Free-Running 300 bp STED\"\n",
    "\n",
    "DATA_PATH = DATA_ROOT / DATA_DATE / DATA_TYPE\n",
    "\n",
    "# load experiment\n",
    "exp = SFCSExperiment(name=label)\n",
    "exp.load_experiment(\n",
    "    confocal_template=DATA_PATH / confocal_template,\n",
    "    should_plot=True,\n",
    "    should_use_preprocessed=True,  # TODO: load anew if not found\n",
    "    should_re_correlate=False,  # True\n",
    "    should_subtract_afterpulse=False,\n",
    ")\n",
    "\n",
    "# save processed data (to avoid re-processing)\n",
    "exp.save_processed_measurements()\n",
    "\n",
    "# Show countrate\n",
    "print(f\"Count-Rate: {exp.confocal.avg_cnt_rate_khz} kHz\")\n",
    "\n",
    "# calibrate TDC\n",
    "exp.calibrate_tdc(should_plot=False)"
   ]
  },
  {
   "cell_type": "markdown",
   "id": "c2725fd5",
   "metadata": {},
   "source": [
    "Now, let's get the afterpulsing from cross-corralting gates:"
   ]
  },
  {
   "cell_type": "code",
   "execution_count": null,
   "id": "0090951b",
   "metadata": {},
   "outputs": [],
   "source": [
    "meas = exp.confocal\n",
    "meas.xcf = {}  # \"halogen_afterpulsing\": meas.cf[\"confocal\"].afterpulse}\n",
    "\n",
    "gate1_ns = Limits(2, 10)\n",
    "gate2_ns = Limits(35, 85)\n",
    "\n",
    "corr_names = (\"AB\",)\n",
    "XCF = meas.cross_correlate_data(\n",
    "    cf_name=\"fl_vs_wn\",\n",
    "    corr_names=corr_names,\n",
    "    gate1_ns=gate1_ns,\n",
    "    gate2_ns=gate2_ns,\n",
    "    should_subtract_bg_corr=True,\n",
    "    should_subtract_afterpulse=False,\n",
    ")[0]\n",
    "\n",
    "XCF.average_correlation()"
   ]
  },
  {
   "cell_type": "markdown",
   "id": "afad7340",
   "metadata": {},
   "source": [
    "Now, we need to perform Fourier transforms. To prepare the functions for the transform we would do well to trim the noisy tail end and to symmetrize them.\n",
    "\n",
    "Let's define them and take a look first:"
   ]
  },
  {
   "cell_type": "code",
   "execution_count": null,
   "id": "291a02c0",
   "metadata": {},
   "outputs": [],
   "source": [
    "# Normalizing and defining the ACF of the afterpulsing (from xcorr) and the afterpulsed signal\n",
    "gate_width_ns = 100\n",
    "countrate_a = np.mean([countrate_pair.a for countrate_pair in XCF.countrate_list])\n",
    "countrate_b = np.mean([countrate_pair.b for countrate_pair in XCF.countrate_list])\n",
    "norm_factor = countrate_b * (gate_width_ns / gate2_ns.interval()) / countrate_a\n",
    "# norm_factor = 1\n",
    "print(\"afterpulse norm_factor: \", norm_factor)\n",
    "G_ap_t = XCF.avg_cf_cr * norm_factor\n",
    "\n",
    "G_ap_signal_t = np.copy(exp.confocal.cf[\"confocal\"].avg_cf_cr)\n",
    "lag = np.copy(XCF.lag)\n",
    "\n",
    "# plotting\n",
    "with Plotter(\n",
    "    super_title=\"Logarithmic Scale\",\n",
    "    xlim=(1e-3, 1e1),\n",
    "    ylim=(-500, exp.confocal.cf[\"confocal\"].g0 * 1.3),\n",
    "    x_scale=\"log\",\n",
    ") as ax:\n",
    "\n",
    "    ax.plot(lag, G_ap_signal_t, label=\"Afterpulsed Signal\")\n",
    "    ax.plot(lag, G_ap_t, label=\"X-Corr Afterpulsing\")\n",
    "    ax.legend()\n",
    "\n",
    "with Plotter(\n",
    "    super_title=\"Linear Scale\", xlim=(-1e-2, 1e-1), ylim=(-1e4, 1e5), x_scale=\"linear\"\n",
    ") as ax:\n",
    "\n",
    "    ax.plot(lag, G_ap_signal_t, label=\"Afterpulsed Signal\")\n",
    "    ax.plot(lag, G_ap_t, label=\"X-Corr Afterpulsing\")\n",
    "    ax.legend()"
   ]
  },
  {
   "cell_type": "markdown",
   "id": "d6506e14",
   "metadata": {},
   "source": [
    "Checking out the probability density at bin 0:"
   ]
  },
  {
   "cell_type": "code",
   "execution_count": null,
   "id": "660bdfc3",
   "metadata": {},
   "outputs": [],
   "source": [
    "lag[G_ap_t == max(G_ap_t)]"
   ]
  },
  {
   "cell_type": "code",
   "execution_count": null,
   "id": "2b50d64d",
   "metadata": {},
   "outputs": [],
   "source": [
    "n = 0\n",
    "G_ap_signal_t[n]\n",
    "G_ap_signal_t[n] * np.diff(lag)[n] * 1e-3"
   ]
  },
  {
   "cell_type": "code",
   "execution_count": null,
   "id": "3e5fbff4",
   "metadata": {},
   "outputs": [],
   "source": [
    "G_ap_t[0] * np.diff(lag)[n] * 1e-3"
   ]
  },
  {
   "cell_type": "markdown",
   "id": "f11c354e",
   "metadata": {},
   "source": [
    "Testing our Fourier transform and its inverse by performing a round-trip transform on a Gaussian function:"
   ]
  },
  {
   "cell_type": "code",
   "execution_count": null,
   "id": "fc108727",
   "metadata": {},
   "outputs": [],
   "source": [
    "# define Gaussian on positive axis:\n",
    "a = 7\n",
    "sigma = 137  # say, in seconds\n",
    "t = np.arange(int(1e4))  # say, in seconds\n",
    "t = np.linspace(0, 1e4, 2**10)  # say, in seconds\n",
    "ft = a * np.exp(-((t / sigma) ** 2))\n",
    "\n",
    "# show it\n",
    "with Plotter(\n",
    "    super_title=\"Gaussian\",\n",
    "    xlabel=\"$t$ ($s$)\",\n",
    "    ylabel=\"$f(t)$ (Normalized)\",\n",
    "    xlim=(-1e-2, sigma * 4),\n",
    ") as ax:\n",
    "    ax.plot(t, ft, \"o\")\n",
    "\n",
    "###################\n",
    "# Fourier transform\n",
    "###################\n",
    "\n",
    "r, fr_interp, w, fw = fourier_transform_1d(\n",
    "    t,\n",
    "    ft,\n",
    "    should_plot=True,\n",
    ")\n",
    "\n",
    "###################\n",
    "# Inverse transform\n",
    "###################\n",
    "\n",
    "w_post, fw_interp, t_post, ft_post = fourier_transform_1d(\n",
    "    w, fw, should_inverse=True, is_input_symmetric=True, should_plot=True,\n",
    ")\n",
    "\n",
    "######################\n",
    "# Comparing round-trip\n",
    "######################\n",
    "\n",
    "with Plotter(\n",
    "    super_title=\"Round-Trip Fourier Transform\\n Compared to Original\",\n",
    "    xlabel=\"$t$ ($s$)\",\n",
    "    ylabel=\"$f(t)$ (Normalized)\",\n",
    "    xlim=(-sigma * 5, sigma * 5),\n",
    "    x_scale=\"linear\",\n",
    ") as ax:\n",
    "    ax.plot(t, ft, label=\"Original Gaussian\")\n",
    "    ax.plot(t_post, np.real(ft_post), label=\"Round-Trip FT Gaussian (real)\")\n",
    "    ax.plot(t_post, np.imag(ft_post), label=\"Round-Trip FT Gaussian (imaginary)\")\n",
    "    ax.legend()"
   ]
  },
  {
   "cell_type": "markdown",
   "id": "61ed29ab",
   "metadata": {},
   "source": [
    "Testing Gaussian interpolation/extrapolation on Gaussian:"
   ]
  },
  {
   "cell_type": "code",
   "execution_count": null,
   "id": "5d7c7422",
   "metadata": {},
   "outputs": [],
   "source": [
    "x_lims = Limits(20, 600)\n",
    "y_lims = Limits(1, 4)\n",
    "\n",
    "gauss_interp = extrapolate_over_noise(\n",
    "    t,\n",
    "    ft,\n",
    "    n_bins=2**17,\n",
    "    x_lims=x_lims,\n",
    "    y_lims=y_lims,\n",
    "    n_robust=2,\n",
    "    interp_type=\"gaussian\",\n",
    "    should_plot=True,\n",
    ")"
   ]
  },
  {
   "cell_type": "markdown",
   "id": "cfdb1472",
   "metadata": {},
   "source": [
    "Extrapolating over noisy parts of signal and afterpulsing:"
   ]
  },
  {
   "cell_type": "code",
   "execution_count": null,
   "id": "c68c14d6",
   "metadata": {},
   "outputs": [],
   "source": [
    "lag_s = lag * 1e-3  # ms to seconds\n",
    "\n",
    "n_bins = 2**15\n",
    "n_robust = 0\n",
    "x_lims = Limits(1e-6, 1e-3)  # (1 us to 1 ms)\n",
    "y_lims = Limits(50, np.inf)\n",
    "interp_type = \"gaussian\"\n",
    "extrap_x_lims = Limits(-1, 5e-3) # up to 5 ms\n",
    "\n",
    "gauss_interp_ap_signal = extrapolate_over_noise(\n",
    "    lag_s,\n",
    "    G_ap_signal_t,\n",
    "    n_bins=n_bins,\n",
    "    x_lims=x_lims,\n",
    "    y_lims=y_lims,\n",
    "    n_robust=n_robust,\n",
    "    interp_type=interp_type,\n",
    "    extrap_x_lims=extrap_x_lims,\n",
    "    should_plot=True,\n",
    ")\n",
    "\n",
    "gauss_interp_ap = extrapolate_over_noise(\n",
    "    lag_s,\n",
    "    G_ap_t,\n",
    "    n_bins=n_bins,\n",
    "    x_lims=x_lims,\n",
    "    y_lims=y_lims,\n",
    "    n_robust=n_robust,\n",
    "    interp_type=interp_type,\n",
    "    extrap_x_lims=extrap_x_lims,\n",
    "    should_plot=True,\n",
    ")\n",
    "    \n",
    "G_ap_signal_t_interp = gauss_interp_ap_signal.y_interp\n",
    "G_ap_t_interp = gauss_interp_ap.y_interp\n",
    "lag_s_interp = gauss_interp_ap.x_interp"
   ]
  },
  {
   "cell_type": "markdown",
   "id": "532e089b",
   "metadata": {},
   "source": [
    "Fourier transform of afterpulsed signal:"
   ]
  },
  {
   "cell_type": "code",
   "execution_count": null,
   "id": "e2002ddb",
   "metadata": {},
   "outputs": [],
   "source": [
    "t_signal, ft_interp_signal, w_signal, fw_signal = fourier_transform_1d(\n",
    "    lag_s_interp,\n",
    "    G_ap_signal_t_interp,\n",
    "    bin_size=1e-7,  # meaning 100 ns\n",
    "    should_normalize=True,\n",
    "    should_plot=True\n",
    ")"
   ]
  },
  {
   "cell_type": "markdown",
   "id": "7efd4048",
   "metadata": {},
   "source": [
    "Fourier transform of afterpulsing:"
   ]
  },
  {
   "cell_type": "code",
   "execution_count": null,
   "id": "396475f8",
   "metadata": {},
   "outputs": [],
   "source": [
    "t_ap, ft_interp_ap, w_ap, fw_ap = fourier_transform_1d(\n",
    "    lag_s_interp,\n",
    "    G_ap_t_interp,\n",
    "    bin_size=1e-7,  # meaning 100 ns\n",
    "    should_normalize=True,\n",
    "    should_plot=True\n",
    ")"
   ]
  },
  {
   "cell_type": "markdown",
   "id": "4a047f80",
   "metadata": {},
   "source": [
    "Get the baselines and normalize to 1:"
   ]
  },
  {
   "cell_type": "code",
   "execution_count": null,
   "id": "e8746bd6",
   "metadata": {},
   "outputs": [],
   "source": [
    "fw_signal_baseline = np.mean(np.real(fw_signal[abs(w_signal) > 1e7]))\n",
    "fw_ap_baseline = np.mean(np.real(fw_ap[abs(w_ap) > 1e7]))\n",
    "\n",
    "print(\"fw_signal_baseline: \", fw_signal_baseline)\n",
    "print(\"fw_ap_baseline: \", fw_ap_baseline)\n",
    "\n",
    "fw_signal += 1 - fw_signal_baseline\n",
    "fw_ap += 1 - fw_ap_baseline"
   ]
  },
  {
   "cell_type": "markdown",
   "id": "87ce4c20",
   "metadata": {},
   "source": [
    "Compare the (normalized) transforms:"
   ]
  },
  {
   "cell_type": "code",
   "execution_count": null,
   "id": "e535f487",
   "metadata": {},
   "outputs": [],
   "source": [
    "with Plotter(\n",
    "    super_title=\"Comparing the transforms\",\n",
    "#     xlim=(-1e6, 1e6),\n",
    "#     ylim=(0.99, 1.04),\n",
    ") as ax:\n",
    "    ax.plot(w_signal, np.real(fw_signal), label=\"signal\")\n",
    "    ax.plot(w_ap, np.real(fw_ap), label=\"ap\")"
   ]
  },
  {
   "cell_type": "markdown",
   "id": "644decfe",
   "metadata": {},
   "source": [
    "Dividing the Fourier transform of the afterpulsed signal by that of the afterpulse (from cross-correlation)"
   ]
  },
  {
   "cell_type": "code",
   "execution_count": null,
   "id": "6405126b",
   "metadata": {},
   "outputs": [],
   "source": [
    "quotient = fw_signal / fw_ap\n",
    "\n",
    "with Plotter() as ax:\n",
    "    ax.plot(w_ap, np.real(quotient), label=\"quotient (real part)\")\n",
    "    ax.plot(w_ap, np.imag(quotient), label=\"quotient (imaginary part)\")\n",
    "    ax.legend()"
   ]
  },
  {
   "cell_type": "markdown",
   "id": "29c18fcc",
   "metadata": {},
   "source": [
    "Extrapolating to smooth noise:"
   ]
  },
  {
   "cell_type": "code",
   "execution_count": null,
   "id": "f70dd72a",
   "metadata": {},
   "outputs": [],
   "source": [
    "# %debug\n",
    "\n",
    "n_bins = 2**17\n",
    "n_robust = 0\n",
    "x_lims = Limits(np.NINF, np.inf)\n",
    "# x_lims = Limits(3000, np.inf)\n",
    "# x_lims = Limits(3000, 200000)\n",
    "y_lims = Limits(np.NINF, np.inf)\n",
    "interp_type = \"gaussian\"\n",
    "extrap_x_lims = Limits(np.NINF, np.inf)\n",
    "# extrap_x_lims = Limits(np.NINF, 3000)\n",
    "\n",
    "gauss_interp_quotient = extrapolate_over_noise(\n",
    "    w_ap[w_ap.size // 2 :],\n",
    "    np.real(quotient)[quotient.size // 2 :],\n",
    "    n_bins=n_bins,\n",
    "    x_lims=x_lims,\n",
    "    y_lims=y_lims,\n",
    "    n_robust=n_robust,\n",
    "    interp_type=interp_type,\n",
    "    extrap_x_lims=extrap_x_lims,\n",
    "    should_plot=True,\n",
    ")"
   ]
  },
  {
   "cell_type": "markdown",
   "id": "7dfe8ebc",
   "metadata": {},
   "source": [
    "Attempting to inverse-transform the quotient to get the afterpulse-free ACF:"
   ]
  },
  {
   "cell_type": "code",
   "execution_count": null,
   "id": "14675956",
   "metadata": {},
   "outputs": [],
   "source": [
    "w_ap_interp = gauss_interp_quotient.x_interp\n",
    "quotient_interp = gauss_interp_quotient.y_interp\n",
    "\n",
    "# w_ap_interp = w_ap\n",
    "# quotient_interp = quotient\n",
    "\n",
    "w_quotient, fw_interp_quotient, t_quotient, ft_quotient = fourier_transform_1d(\n",
    "    w_ap_interp,\n",
    "    quotient_interp,\n",
    "    should_inverse=True,\n",
    "    is_input_symmetric=False,\n",
    "    bin_size=np.diff(w_ap_interp)[0],\n",
    "    #     should_normalize=True,\n",
    "    should_plot=True,\n",
    ")"
   ]
  },
  {
   "cell_type": "markdown",
   "id": "96d83c26",
   "metadata": {},
   "source": [
    "Generating the Fourier transform of the afterpulse-subtracted (in the usual/old way) signal, to compare with the quotient in Fourier space:"
   ]
  },
  {
   "cell_type": "code",
   "execution_count": null,
   "id": "c256c57a",
   "metadata": {},
   "outputs": [],
   "source": [
    "# load experiment\n",
    "exp2 = SFCSExperiment(name=label)\n",
    "exp2.load_experiment(\n",
    "    confocal_template=DATA_PATH / confocal_template,\n",
    "    should_plot=True,\n",
    "    should_use_preprocessed=True,  # TODO: load anew if not found\n",
    "    should_re_correlate=True,\n",
    "    should_subtract_afterpulse=True,\n",
    "    should_use_inherent_afterpulsing=True,\n",
    ")"
   ]
  },
  {
   "cell_type": "markdown",
   "id": "0d8c665b",
   "metadata": {},
   "source": [
    "Extrapolating over noise to facillitate the Fourier transform:"
   ]
  },
  {
   "cell_type": "code",
   "execution_count": null,
   "id": "da4f18cc",
   "metadata": {},
   "outputs": [],
   "source": [
    "G_signal_t = np.copy(exp2.confocal.cf[\"confocal\"].avg_cf_cr)\n",
    "\n",
    "lag_s = lag * 1e-3  # ms to seconds\n",
    "\n",
    "n_bins = 2**17\n",
    "n_robust = 8\n",
    "x_lims = Limits(1e-6, 1e-3)  # (1 us to 1 ms)\n",
    "y_lims = Limits(50, np.inf)\n",
    "interp_type = \"gaussian\"\n",
    "extrap_x_lims = Limits(-1, 5e-3)\n",
    "\n",
    "gauss_interp_signal = extrapolate_over_noise(\n",
    "    lag_s,\n",
    "    G_signal_t,\n",
    "    n_bins=n_bins,\n",
    "    x_lims=x_lims,\n",
    "    y_lims=y_lims,\n",
    "    n_robust=n_robust,\n",
    "    interp_type=interp_type,\n",
    "    extrap_x_lims=extrap_x_lims,\n",
    "    should_plot=True,\n",
    ")"
   ]
  },
  {
   "cell_type": "markdown",
   "id": "838cbce4",
   "metadata": {},
   "source": [
    "Fourier-transforming the afterpulsing-subtracted signal:"
   ]
  },
  {
   "cell_type": "code",
   "execution_count": null,
   "id": "a7b56fa7",
   "metadata": {},
   "outputs": [],
   "source": [
    "# %debug\n",
    "lag_s_interp = gauss_interp_signal.x_interp\n",
    "G_signal_t_interp = gauss_interp_signal.y_interp\n",
    "\n",
    "t_std_signal, ft_interp_std_signal, w_std_signal, fw_std_signal = fourier_transform_1d(\n",
    "    lag_s_interp,\n",
    "    G_signal_t_interp,\n",
    "    bin_size=1e-7,  # meaning 100 ns\n",
    "    should_normalize=True,\n",
    "    should_plot=True,\n",
    ")"
   ]
  },
  {
   "cell_type": "markdown",
   "id": "99dfaa72",
   "metadata": {},
   "source": [
    "Plotting the transformed ap-subtracted signal together with the quotient:"
   ]
  },
  {
   "cell_type": "code",
   "execution_count": null,
   "id": "d4437360",
   "metadata": {},
   "outputs": [],
   "source": [
    "factor = 1\n",
    "# factor = 1.53\n",
    "\n",
    "with Plotter(\n",
    "    subplots=(1, 2),\n",
    "    super_title=\"Fourier Transform of $G_{signal}$ vs. Quotient\",\n",
    "    xlabel=\"$\\omega$ ($2\\pi\\cdot Hz$)\",\n",
    ") as axes:\n",
    "    axes[0].plot(w_std_signal, np.real(fw_std_signal), label=\"$G_{signal}$ (real part)\")\n",
    "    axes[0].plot(w_ap_interp, factor * np.real(quotient_interp), label=\"$G(\\omega)_{ap\\ signal}/G(\\omega)_{ap}$ (real part)\")\n",
    "    axes[0].legend()\n",
    "    axes[0].set_xscale(\"log\")\n",
    "    \n",
    "    axes[1].plot(w_std_signal, np.real(fw_std_signal), label=\"$G_{signal}$ (real part)\")\n",
    "    axes[1].plot(w_ap_interp, factor * np.real(quotient_interp), label=\"$G(\\omega)_{ap\\ signal}/G(\\omega)_{ap}$ (real part)\")\n",
    "    axes[1].legend()\n",
    "    axes[1].set_xlim(-1e6, 1e6)"
   ]
  },
  {
   "cell_type": "markdown",
   "id": "76ed9218",
   "metadata": {},
   "source": [
    "Directly comparing the clean signal to the inverse transform of the quotient:"
   ]
  },
  {
   "cell_type": "code",
   "execution_count": null,
   "id": "a6b371f2",
   "metadata": {},
   "outputs": [],
   "source": [
    "g0_factor = 1.045e7\n",
    "\n",
    "with Plotter(\n",
    "    super_title=\"Comparing the transforms\",\n",
    "#     xlim=(-1e6, 1e6),\n",
    "    ylim=(-100, max(G_signal_t_interp) * 1.1),\n",
    "    x_scale=\"log\",\n",
    ") as ax:\n",
    "    \n",
    "    ax.plot(lag_s_interp, G_signal_t_interp, label=\"$G(t)_{signal}$\")\n",
    "    ax.plot(t_quotient, np.real(ft_quotient) * g0_factor, label=\"$G(t)_{quotient}$\")\n",
    "    ax.legend()"
   ]
  },
  {
   "cell_type": "markdown",
   "id": "6e9c63bc",
   "metadata": {},
   "source": [
    "## Testing on new detector data..."
   ]
  },
  {
   "cell_type": "markdown",
   "id": "8f3e9599",
   "metadata": {},
   "source": [
    "importing the data:"
   ]
  },
  {
   "cell_type": "code",
   "execution_count": null,
   "id": "d2731560",
   "metadata": {},
   "outputs": [],
   "source": [
    "DATA_DATE = \"29_03_2022\"\n",
    "confocal_template = \"bp300_20uW_angular_exc_172325_*.pkl\"\n",
    "label = \"300 bp new detector\"\n",
    "\n",
    "DATA_PATH = DATA_ROOT / DATA_DATE / DATA_TYPE\n",
    "\n",
    "# load experiment\n",
    "exp3 = SFCSExperiment(name=label)\n",
    "exp3.load_experiment(\n",
    "    confocal_template=DATA_PATH / confocal_template,\n",
    "    should_plot=True,\n",
    "    should_use_preprocessed=True,  # TODO: load anew if not found\n",
    "    should_re_correlate=False,  # True\n",
    "    should_subtract_afterpulse=False,\n",
    ")\n",
    "\n",
    "# save processed data (to avoid re-processing)\n",
    "exp3.save_processed_measurements()\n",
    "\n",
    "# Show countrate\n",
    "print(f\"Count-Rate: {exp3.confocal.avg_cnt_rate_khz} kHz\")\n",
    "\n",
    "# calibrate TDC\n",
    "exp3.calibrate_tdc(should_plot=False)"
   ]
  },
  {
   "cell_type": "markdown",
   "id": "d4b0e4da",
   "metadata": {},
   "source": [
    "Get the inverse quotient:"
   ]
  },
  {
   "cell_type": "code",
   "execution_count": null,
   "id": "523aea94",
   "metadata": {},
   "outputs": [],
   "source": [
    "meas = exp3.confocal\n",
    "meas.xcf = {}  # \"halogen_afterpulsing\": meas.cf[\"confocal\"].afterpulse}\n",
    "\n",
    "gate1_ns = Limits(2, 10)\n",
    "gate2_ns = Limits(45, 85)\n",
    "\n",
    "corr_names = (\"AB\",)\n",
    "XCF = meas.cross_correlate_data(\n",
    "    cf_name=\"fl_vs_wn\",\n",
    "    corr_names=corr_names,\n",
    "    gate1_ns=gate1_ns,\n",
    "    gate2_ns=gate2_ns,\n",
    "    should_subtract_bg_corr=True,\n",
    "    should_subtract_afterpulse=False,\n",
    ")[0]\n",
    "\n",
    "XCF.average_correlation()"
   ]
  },
  {
   "cell_type": "code",
   "execution_count": null,
   "id": "5149c164",
   "metadata": {},
   "outputs": [],
   "source": [
    "# Normalizing and defining the ACF of the afterpulsing (from xcorr) and the afterpulsed signal\n",
    "gate_width_ns = 100\n",
    "countrate_a = np.mean([countrate_pair.a for countrate_pair in XCF.countrate_list])\n",
    "countrate_b = np.mean([countrate_pair.b for countrate_pair in XCF.countrate_list])\n",
    "norm_factor = countrate_b * (gate_width_ns / gate2_ns.interval()) / countrate_a\n",
    "# norm_factor = 1\n",
    "print(\"afterpulse norm_factor: \", norm_factor)\n",
    "G_ap_t = XCF.avg_cf_cr * norm_factor\n",
    "\n",
    "G_ap_signal_t = np.copy(exp3.confocal.cf[\"confocal\"].avg_cf_cr)\n",
    "lag = np.copy(XCF.lag)\n",
    "\n",
    "# plotting\n",
    "with Plotter(\n",
    "    super_title=\"Logarithmic Scale\",\n",
    "    xlim=(1e-3, 1e1),\n",
    "    ylim=(-500, exp3.confocal.cf[\"confocal\"].g0 * 1.3),\n",
    "    x_scale=\"log\",\n",
    ") as ax:\n",
    "\n",
    "    ax.plot(lag, G_ap_signal_t, label=\"Afterpulsed Signal\")\n",
    "    ax.plot(lag, G_ap_t, label=\"X-Corr Afterpulsing\")\n",
    "    ax.legend()\n",
    "\n",
    "with Plotter(\n",
    "    super_title=\"Linear Scale\", xlim=(-1e-2, 1e-1), ylim=(-1e4, 1e5), x_scale=\"linear\"\n",
    ") as ax:\n",
    "\n",
    "    ax.plot(lag, G_ap_signal_t, label=\"Afterpulsed Signal\")\n",
    "    ax.plot(lag, G_ap_t, label=\"X-Corr Afterpulsing\")\n",
    "    ax.legend()"
   ]
  },
  {
   "cell_type": "code",
   "execution_count": null,
   "id": "2cdc11e8",
   "metadata": {},
   "outputs": [],
   "source": [
    "lag_s = lag * 1e-3  # ms to seconds\n",
    "\n",
    "n_bins = 2**15\n",
    "n_robust = 0\n",
    "x_lims = Limits(1e-6, 1e-3)  # (1 us to 1 ms)\n",
    "y_lims = Limits(50, np.inf)\n",
    "interp_type = \"gaussian\"\n",
    "extrap_x_lims = Limits(-1, 5e-3) # up to 5 ms\n",
    "\n",
    "gauss_interp_ap_signal = extrapolate_over_noise(\n",
    "    lag_s,\n",
    "    G_ap_signal_t,\n",
    "    n_bins=n_bins,\n",
    "    x_lims=x_lims,\n",
    "    y_lims=y_lims,\n",
    "    n_robust=n_robust,\n",
    "    interp_type=interp_type,\n",
    "    extrap_x_lims=extrap_x_lims,\n",
    "    should_plot=True,\n",
    ")\n",
    "\n",
    "gauss_interp_ap = extrapolate_over_noise(\n",
    "    lag_s,\n",
    "    G_ap_t,\n",
    "    n_bins=n_bins,\n",
    "    x_lims=x_lims,\n",
    "    y_lims=y_lims,\n",
    "    n_robust=n_robust,\n",
    "    interp_type=interp_type,\n",
    "    extrap_x_lims=extrap_x_lims,\n",
    "    should_plot=True,\n",
    ")\n",
    "    \n",
    "G_ap_signal_t_interp = gauss_interp_ap_signal.y_interp\n",
    "G_ap_t_interp = gauss_interp_ap.y_interp\n",
    "lag_s_interp = gauss_interp_ap.x_interp"
   ]
  },
  {
   "cell_type": "code",
   "execution_count": null,
   "id": "bc8d8448",
   "metadata": {},
   "outputs": [],
   "source": [
    "t_signal, ft_interp_signal, w_signal, fw_signal = fourier_transform_1d(\n",
    "    lag_s_interp,\n",
    "    G_ap_signal_t_interp,\n",
    "    bin_size=1e-7,  # meaning 100 ns\n",
    "    should_normalize=True,\n",
    "    should_plot=True\n",
    ")\n",
    "\n",
    "t_ap, ft_interp_ap, w_ap, fw_ap = fourier_transform_1d(\n",
    "    lag_s_interp,\n",
    "    G_ap_t_interp,\n",
    "    bin_size=1e-7,  # meaning 100 ns\n",
    "    should_normalize=True,\n",
    "    should_plot=True\n",
    ")"
   ]
  },
  {
   "cell_type": "code",
   "execution_count": null,
   "id": "bb4f6808",
   "metadata": {},
   "outputs": [],
   "source": [
    "fw_signal_baseline = np.mean(np.real(fw_signal[abs(w_signal) > 1e7]))\n",
    "fw_ap_baseline = np.mean(np.real(fw_ap[abs(w_ap) > 1e7]))\n",
    "\n",
    "print(\"fw_signal_baseline: \", fw_signal_baseline)\n",
    "print(\"fw_ap_baseline: \", fw_ap_baseline)\n",
    "\n",
    "fw_signal += 1 - fw_signal_baseline\n",
    "fw_ap += 1 - fw_ap_baseline"
   ]
  },
  {
   "cell_type": "code",
   "execution_count": null,
   "id": "1ae72a02",
   "metadata": {},
   "outputs": [],
   "source": [
    "with Plotter(\n",
    "    super_title=\"Comparing the transforms\",\n",
    "#     xlim=(-1e6, 1e6),\n",
    "#     ylim=(0.99, 1.04),\n",
    ") as ax:\n",
    "    ax.plot(w_signal, np.real(fw_signal), label=\"signal\")\n",
    "    ax.plot(w_ap, np.real(fw_ap), label=\"ap\")"
   ]
  },
  {
   "cell_type": "code",
   "execution_count": null,
   "id": "258e2b6f",
   "metadata": {},
   "outputs": [],
   "source": [
    "quotient = fw_signal / fw_ap\n",
    "\n",
    "with Plotter() as ax:\n",
    "    ax.plot(w_ap, np.real(quotient), label=\"quotient (real part)\")\n",
    "    ax.plot(w_ap, np.imag(quotient), label=\"quotient (imaginary part)\")\n",
    "    ax.legend()"
   ]
  },
  {
   "cell_type": "code",
   "execution_count": null,
   "id": "7e5a0c28",
   "metadata": {},
   "outputs": [],
   "source": [
    "n_bins = 2**17\n",
    "n_robust = 0\n",
    "# x_lims = Limits(np.NINF, np.inf)\n",
    "x_lims = Limits(3000, np.inf)\n",
    "# x_lims = Limits(3000, 200000)\n",
    "y_lims = Limits(np.NINF, np.inf)\n",
    "interp_type = \"gaussian\"\n",
    "extrap_x_lims = Limits(np.NINF, np.inf)\n",
    "# extrap_x_lims = Limits(np.NINF, 3000)\n",
    "\n",
    "gauss_interp_quotient = extrapolate_over_noise(\n",
    "    w_ap[w_ap.size // 2 :],\n",
    "    np.real(quotient)[quotient.size // 2 :],\n",
    "    n_bins=n_bins,\n",
    "    x_lims=x_lims,\n",
    "    y_lims=y_lims,\n",
    "    n_robust=n_robust,\n",
    "    interp_type=interp_type,\n",
    "    extrap_x_lims=extrap_x_lims,\n",
    "    should_plot=True,\n",
    ")"
   ]
  },
  {
   "cell_type": "code",
   "execution_count": null,
   "id": "79f5471d",
   "metadata": {},
   "outputs": [],
   "source": [
    "w_ap_interp = gauss_interp_quotient.x_interp\n",
    "quotient_interp = gauss_interp_quotient.y_interp\n",
    "\n",
    "# w_ap_interp = w_ap\n",
    "# quotient_interp = quotient\n",
    "\n",
    "w_quotient, fw_interp_quotient, t_quotient, ft_quotient = fourier_transform_1d(\n",
    "    w_ap_interp,\n",
    "    quotient_interp,\n",
    "    should_inverse=True,\n",
    "    is_input_symmetric=False,\n",
    "    bin_size=np.diff(w_ap_interp)[0],\n",
    "    #     should_normalize=True,\n",
    "    should_plot=True,\n",
    ")"
   ]
  },
  {
   "cell_type": "markdown",
   "id": "8f739a2f",
   "metadata": {},
   "source": [
    "Comparing to regularly subtracted afterpulsing (calibrated and inherent):"
   ]
  },
  {
   "cell_type": "code",
   "execution_count": null,
   "id": "d337e452",
   "metadata": {},
   "outputs": [],
   "source": [
    "DATA_DATE = \"29_03_2022\"\n",
    "confocal_template = \"bp300_20uW_angular_exc_172325_*.pkl\"\n",
    "label = \"300 bp new detector\"\n",
    "\n",
    "DATA_PATH = DATA_ROOT / DATA_DATE / DATA_TYPE\n",
    "\n",
    "# load experiment\n",
    "exp4 = SFCSExperiment(name=label)\n",
    "exp4.load_experiment(\n",
    "    confocal_template=DATA_PATH / confocal_template,\n",
    "    should_plot=True,\n",
    "    should_use_preprocessed=True,  # TODO: load anew if not found\n",
    "    should_re_correlate=True,\n",
    "    should_subtract_afterpulse=True,\n",
    "    should_use_inherent_afterpulsing=True,\n",
    ")\n",
    "\n",
    "# save processed data (to avoid re-processing)\n",
    "exp4.save_processed_measurements()\n",
    "\n",
    "# Show countrate\n",
    "print(f\"Count-Rate: {exp4.confocal.avg_cnt_rate_khz} kHz\")\n",
    "\n",
    "# load experiment\n",
    "exp5 = SFCSExperiment(name=label)\n",
    "exp5.load_experiment(\n",
    "    confocal_template=DATA_PATH / confocal_template,\n",
    "    should_plot=True,\n",
    "    should_use_preprocessed=True,  # TODO: load anew if not found\n",
    "    should_re_correlate=True,\n",
    "    should_subtract_afterpulse=True,\n",
    "    should_use_inherent_afterpulsing=False,\n",
    ")\n",
    "\n",
    "# save processed data (to avoid re-processing)\n",
    "exp5.save_processed_measurements()\n",
    "\n",
    "# Show countrate\n",
    "print(f\"Count-Rate: {exp5.confocal.avg_cnt_rate_khz} kHz\")"
   ]
  },
  {
   "cell_type": "code",
   "execution_count": null,
   "id": "e9c00280",
   "metadata": {},
   "outputs": [],
   "source": [
    "clean_signal_inherent = exp4.confocal.cf[\"confocal\"].avg_cf_cr\n",
    "lag_s = exp4.confocal.cf[\"confocal\"].lag * 1e-3\n",
    "\n",
    "clean_signal_calibrated = exp5.confocal.cf[\"confocal\"].avg_cf_cr\n",
    "\n",
    "g0_factor = 1.38e7\n",
    "# g0_factor = 1\n",
    "\n",
    "with Plotter(\n",
    "    super_title=\"Comparing the 'clean' signal\\nwith the inverse transform (new detector)\",\n",
    "#     xlim=(-1e6, 1e6),\n",
    "    ylim=(-100, np.median(clean_signal) * 100),\n",
    "    x_scale=\"log\",\n",
    ") as ax:\n",
    "    \n",
    "    ax.plot(lag_s, clean_signal_inherent, label=\"$G(t)_{signal,\\ inherent}$\")\n",
    "    ax.plot(lag_s, clean_signal_calibrated, label=\"$G(t)_{signal,\\ calibrated}$\")\n",
    "    ax.plot(t_quotient, np.real(ft_quotient) * g0_factor, label=\"$G(t)_{quotient}$ x \" + f\"{g0_factor:.2e}\")\n",
    "    ax.legend()"
   ]
  },
  {
   "cell_type": "markdown",
   "id": "2a30b36b",
   "metadata": {},
   "source": [
    "Play sound when done:"
   ]
  },
  {
   "cell_type": "code",
   "execution_count": null,
   "id": "e9fc9631",
   "metadata": {},
   "outputs": [],
   "source": [
    "Beep(4000, 300)"
   ]
  }
 ],
 "metadata": {
  "jupytext": {
   "formats": "ipynb,py:percent"
  },
  "kernelspec": {
   "display_name": "Python 3 (ipykernel)",
   "language": "python",
   "name": "python3"
  },
  "language_info": {
   "codemirror_mode": {
    "name": "ipython",
    "version": 3
   },
   "file_extension": ".py",
   "mimetype": "text/x-python",
   "name": "python",
   "nbconvert_exporter": "python",
   "pygments_lexer": "ipython3",
   "version": "3.9.5"
  }
 },
 "nbformat": 4,
 "nbformat_minor": 5
}
