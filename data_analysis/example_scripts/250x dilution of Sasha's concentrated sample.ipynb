{
 "cells": [
  {
   "cell_type": "code",
   "execution_count": null,
   "id": "4dc775cc",
   "metadata": {},
   "outputs": [],
   "source": [
    "import os\n",
    "# import native/external packages\n",
    "import pickle\n",
    "import re\n",
    "from pathlib import Path\n",
    "from pprint import pprint as pp\n",
    "from winsound import Beep\n",
    "\n",
    "import matplotlib as mpl\n",
    "import numpy as np\n",
    "from IPython.core.debugger import set_trace\n",
    "from matplotlib import pyplot as plt\n",
    "\n",
    "# Import project modules\n",
    "from data_analysis.correlation_function import (SFCSExperiment,\n",
    "                                                SolutionSFCSMeasurement)\n",
    "from utilities.display import Plotter\n",
    "from utilities.file_utilities import (default_system_info,\n",
    "                                      save_processed_solution_meas)\n",
    "from utilities.helper import Limits\n",
    "\n",
    "mpl.use(\"nbAgg\")\n",
    "\n",
    "# Move to project root to easily import modules\n",
    "# PROJECT_ROOT = Path(\"D:\\people\\Idomic\\gSTED-sFCS\") # Lab PC\n",
    "PROJECT_ROOT = Path(\"D:\\MEGA\\BioPhysics_Lab\\Optical_System\\gSTEDsFCS\")  # Laptop\n",
    "os.chdir(PROJECT_ROOT)\n",
    "\n",
    "\n",
    "# Define other global constants\n",
    "DATA_ROOT = Path(\"D:\\OneDrive - post.bgu.ac.il\\gSTED_sFCS_Data\")  # Laptop/Lab PC (same path)\n",
    "DATA_TYPE = \"solution\"\n",
    "DATA_PATH = DATA_ROOT / \"29_03_2022\" / DATA_TYPE\n",
    "\n",
    "# SHOULD_FORCE_PROCESSING = False\n",
    "SHOULD_FORCE_PROCESSING = True"
   ]
  },
  {
   "cell_type": "markdown",
   "id": "813a7bb4",
   "metadata": {},
   "source": [
    "Load Calibration Data"
   ]
  },
  {
   "cell_type": "code",
   "execution_count": null,
   "id": "21f095a1",
   "metadata": {},
   "outputs": [],
   "source": [
    "confocal_template = DATA_PATH / \"bp300_20uW_angular_exc_172325_*.pkl\"\n",
    "sted_template = DATA_PATH / \"bp300_20uW_200mW_angular_sted_174126_*.pkl\"\n",
    "\n",
    "# load experiment\n",
    "cal_exp = SFCSExperiment(name=\"300 bp\")\n",
    "cal_exp.load_experiment(\n",
    "    confocal_template=confocal_template,\n",
    "    sted_template=sted_template,\n",
    "    should_plot=True,\n",
    "    should_use_preprocessed=not SHOULD_FORCE_PROCESSING,\n",
    "    file_selection=\"Use All\",\n",
    ")\n",
    "\n",
    "# save processed data (to avoid re-processing)\n",
    "if SHOULD_FORCE_PROCESSING:\n",
    "    cal_exp.save_processed_measurements()\n",
    "\n",
    "Beep(4000, 1000)"
   ]
  },
  {
   "cell_type": "markdown",
   "id": "749b8bac",
   "metadata": {},
   "source": [
    "Load Sample Data"
   ]
  },
  {
   "cell_type": "code",
   "execution_count": null,
   "id": "b0ef6dc5",
   "metadata": {},
   "outputs": [],
   "source": [
    "confocal_template = DATA_PATH / \"conc_250xDiluted_angular_exc_191600_*.pkl\"\n",
    "sted_template = DATA_PATH / \"conc_250xDiluted_angular_sted_193229_*.pkl\"\n",
    "\n",
    "# load experiment\n",
    "sample_exp = SFCSExperiment(name=\"250x Diluted Sample\")\n",
    "sample_exp.load_experiment(\n",
    "    confocal_template=confocal_template,\n",
    "    sted_template=sted_template,\n",
    "    should_plot=True,\n",
    "    should_use_preprocessed=not SHOULD_FORCE_PROCESSING,\n",
    "    roi_selection=\"auto\",\n",
    "    file_selection=\"Use All\",\n",
    ")\n",
    "\n",
    "# save processed data (to avoid re-processing)\n",
    "if SHOULD_FORCE_PROCESSING:\n",
    "    cal_exp.save_processed_measurements()\n",
    "\n",
    "Beep(5000, 1000)"
   ]
  },
  {
   "cell_type": "code",
   "execution_count": null,
   "id": "c9b86716",
   "metadata": {},
   "outputs": [],
   "source": [
    "sample_exp.confocal.__dict__"
   ]
  },
  {
   "cell_type": "markdown",
   "id": "c9ec17bd",
   "metadata": {},
   "source": [
    "Print the count-rates (should add to 'load_experiment()' method)"
   ]
  },
  {
   "cell_type": "code",
   "execution_count": null,
   "id": "8c40a233",
   "metadata": {},
   "outputs": [],
   "source": [
    "sample_exp.confocal.__dict__.keys()\n",
    "sample_exp.confocal.duration_min"
   ]
  },
  {
   "cell_type": "code",
   "execution_count": null,
   "id": "8a7fe423",
   "metadata": {},
   "outputs": [],
   "source": [
    "print(\"300 bp YOYO Calibration Experiment:\")\n",
    "print(f\"Average confocal count-rate: {cal_exp.confocal.avg_cnt_rate_khz:.2f} kHz\")\n",
    "print(f\"Average STED count-rate: {cal_exp.sted.avg_cnt_rate_khz:.2f} kHz\")\n",
    "\n",
    "print(\"\\n9.3 kbp YOYO Sample Experiment:\")\n",
    "print(f\"Average confocal count-rate: {sample_exp.confocal.avg_cnt_rate_khz:.2f} kHz\")\n",
    "print(f\"Average STED count-rate: {sample_exp.sted.avg_cnt_rate_khz:.2f} kHz\")"
   ]
  },
  {
   "cell_type": "markdown",
   "id": "33d967a3",
   "metadata": {},
   "source": [
    "Calibrate TDC and compare lifetimes:"
   ]
  },
  {
   "cell_type": "code",
   "execution_count": null,
   "id": "02129ba4",
   "metadata": {},
   "outputs": [],
   "source": [
    "if not hasattr(cal_exp.confocal, \"tdc_calib\"):\n",
    "\n",
    "    # TDC calibration\n",
    "    cal_exp.calibrate_tdc()\n",
    "    sample_exp.calibrate_tdc()\n",
    "\n",
    "    # Saving\n",
    "    cal_exp.save_processed_measurements()\n",
    "    sample_exp.save_processed_measurements()\n",
    "\n",
    "else:\n",
    "    print(\"TDC already calibrated. Skipping.\")\n",
    "\n",
    "# Compare lifetimes\n",
    "cal_exp.compare_lifetimes()\n",
    "sample_exp.compare_lifetimes()\n",
    "\n",
    "Beep(6000, 1000)"
   ]
  },
  {
   "cell_type": "markdown",
   "id": "df29c02e",
   "metadata": {},
   "source": [
    "Get lifetime parameters:"
   ]
  },
  {
   "cell_type": "code",
   "execution_count": null,
   "id": "6cb74894",
   "metadata": {},
   "outputs": [],
   "source": [
    "mpl.use(\"Qt5Agg\")\n",
    "cal_exp.get_lifetime_parameters()\n",
    "sample_exp.get_lifetime_parameters()\n",
    "mpl.use(\"nbAgg\")\n",
    "\n",
    "print(\"Lifetime Parameters:\\n\")\n",
    "print(\"Calibration:\")\n",
    "pp(cal_exp.lifetime_params.__dict__)\n",
    "print(\"\\nSample:\")\n",
    "pp(sample_exp.lifetime_params.__dict__)\n",
    "\n",
    "Beep(7000, 1000)"
   ]
  },
  {
   "cell_type": "markdown",
   "id": "45dec6ef",
   "metadata": {},
   "source": [
    "Gating"
   ]
  },
  {
   "cell_type": "code",
   "execution_count": null,
   "id": "90c582af",
   "metadata": {},
   "outputs": [],
   "source": [
    "gate_list = [(6, 20), (8, 20)]\n",
    "cal_exp.add_gates(gate_list)\n",
    "sample_exp.add_gates(gate_list)\n",
    "\n",
    "Beep(8000, 1000)"
   ]
  },
  {
   "cell_type": "markdown",
   "id": "16a5dc52",
   "metadata": {},
   "source": [
    "Structure Factor Testing:"
   ]
  },
  {
   "cell_type": "code",
   "execution_count": null,
   "id": "bbe9dc14",
   "metadata": {},
   "outputs": [],
   "source": [
    "n_robust = 3\n",
    "g_min = 0.1\n",
    "\n",
    "cal_exp.calculate_structure_factors(g_min=g_min, interp_pnts=n_interp_points)\n",
    "sample_exp.calculate_structure_factors(g_min=g_min, n_robust=n_robust)\n",
    "\n",
    "Beep(9000, 1000)"
   ]
  },
  {
   "cell_type": "markdown",
   "id": "3065ffdf",
   "metadata": {},
   "source": [
    "Now divide the sample $S(q)$ by the calibration's?"
   ]
  }
 ],
 "metadata": {
  "jupytext": {
   "formats": "ipynb,py:percent"
  },
  "kernelspec": {
   "display_name": "Python 3 (ipykernel)",
   "language": "python",
   "name": "python3"
  }
 },
 "nbformat": 4,
 "nbformat_minor": 5
}
